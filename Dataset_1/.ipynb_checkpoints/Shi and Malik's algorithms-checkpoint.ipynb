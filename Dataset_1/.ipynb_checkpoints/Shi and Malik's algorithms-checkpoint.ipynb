{
 "cells": [
  {
   "cell_type": "code",
   "execution_count": 15,
   "id": "dbd841d0",
   "metadata": {},
   "outputs": [
    {
     "ename": "NameError",
     "evalue": "name 'x' is not defined",
     "output_type": "error",
     "traceback": [
      "\u001b[1;31m---------------------------------------------------------------------------\u001b[0m",
      "\u001b[1;31mNameError\u001b[0m                                 Traceback (most recent call last)",
      "Input \u001b[1;32mIn [15]\u001b[0m, in \u001b[0;36m<cell line: 8>\u001b[1;34m()\u001b[0m\n\u001b[0;32m      6\u001b[0m \u001b[38;5;28;01mimport\u001b[39;00m \u001b[38;5;21;01mnetworkx\u001b[39;00m \u001b[38;5;28;01mas\u001b[39;00m \u001b[38;5;21;01mnx\u001b[39;00m\n\u001b[0;32m      7\u001b[0m \u001b[38;5;28;01mfrom\u001b[39;00m \u001b[38;5;21;01mnumpy\u001b[39;00m \u001b[38;5;28;01mimport\u001b[39;00m inf\n\u001b[1;32m----> 8\u001b[0m \u001b[43mx\u001b[49m[x \u001b[38;5;241m==\u001b[39m \u001b[38;5;241m-\u001b[39minf] \u001b[38;5;241m=\u001b[39m \u001b[38;5;241m0\u001b[39m\n",
      "\u001b[1;31mNameError\u001b[0m: name 'x' is not defined"
     ]
    }
   ],
   "source": [
    "import numpy as np\n",
    "import pandas as pd\n",
    "import math\n",
    "import itertools\n",
    "from sklearn.neighbors import DistanceMetric\n",
    "import networkx as nx\n",
    "from numpy import inf\n"
   ]
  },
  {
   "cell_type": "code",
   "execution_count": 2,
   "id": "93966de1",
   "metadata": {},
   "outputs": [
    {
     "data": {
      "text/html": [
       "<div>\n",
       "<style scoped>\n",
       "    .dataframe tbody tr th:only-of-type {\n",
       "        vertical-align: middle;\n",
       "    }\n",
       "\n",
       "    .dataframe tbody tr th {\n",
       "        vertical-align: top;\n",
       "    }\n",
       "\n",
       "    .dataframe thead th {\n",
       "        text-align: right;\n",
       "    }\n",
       "</style>\n",
       "<table border=\"1\" class=\"dataframe\">\n",
       "  <thead>\n",
       "    <tr style=\"text-align: right;\">\n",
       "      <th></th>\n",
       "      <th>ID</th>\n",
       "      <th>age</th>\n",
       "      <th>anaemia</th>\n",
       "      <th>creatinine_phosphokinase</th>\n",
       "      <th>diabetes</th>\n",
       "      <th>ejection_fraction</th>\n",
       "      <th>high_blood_pressure</th>\n",
       "      <th>platelets</th>\n",
       "      <th>serum_creatinine</th>\n",
       "      <th>serum_sodium</th>\n",
       "      <th>sex</th>\n",
       "      <th>smoking</th>\n",
       "      <th>time</th>\n",
       "      <th>DEATH_EVENT</th>\n",
       "    </tr>\n",
       "  </thead>\n",
       "  <tbody>\n",
       "    <tr>\n",
       "      <th>0</th>\n",
       "      <td>1</td>\n",
       "      <td>75.0</td>\n",
       "      <td>0</td>\n",
       "      <td>582</td>\n",
       "      <td>0</td>\n",
       "      <td>20</td>\n",
       "      <td>1</td>\n",
       "      <td>265000.00</td>\n",
       "      <td>1.9</td>\n",
       "      <td>130</td>\n",
       "      <td>1</td>\n",
       "      <td>0</td>\n",
       "      <td>4</td>\n",
       "      <td>1</td>\n",
       "    </tr>\n",
       "    <tr>\n",
       "      <th>1</th>\n",
       "      <td>2</td>\n",
       "      <td>55.0</td>\n",
       "      <td>0</td>\n",
       "      <td>7861</td>\n",
       "      <td>0</td>\n",
       "      <td>38</td>\n",
       "      <td>0</td>\n",
       "      <td>263358.03</td>\n",
       "      <td>1.1</td>\n",
       "      <td>136</td>\n",
       "      <td>1</td>\n",
       "      <td>0</td>\n",
       "      <td>6</td>\n",
       "      <td>1</td>\n",
       "    </tr>\n",
       "    <tr>\n",
       "      <th>2</th>\n",
       "      <td>3</td>\n",
       "      <td>65.0</td>\n",
       "      <td>0</td>\n",
       "      <td>146</td>\n",
       "      <td>0</td>\n",
       "      <td>20</td>\n",
       "      <td>0</td>\n",
       "      <td>162000.00</td>\n",
       "      <td>1.3</td>\n",
       "      <td>129</td>\n",
       "      <td>1</td>\n",
       "      <td>1</td>\n",
       "      <td>7</td>\n",
       "      <td>1</td>\n",
       "    </tr>\n",
       "    <tr>\n",
       "      <th>3</th>\n",
       "      <td>4</td>\n",
       "      <td>50.0</td>\n",
       "      <td>1</td>\n",
       "      <td>111</td>\n",
       "      <td>0</td>\n",
       "      <td>20</td>\n",
       "      <td>0</td>\n",
       "      <td>210000.00</td>\n",
       "      <td>1.9</td>\n",
       "      <td>137</td>\n",
       "      <td>1</td>\n",
       "      <td>0</td>\n",
       "      <td>7</td>\n",
       "      <td>1</td>\n",
       "    </tr>\n",
       "    <tr>\n",
       "      <th>4</th>\n",
       "      <td>5</td>\n",
       "      <td>65.0</td>\n",
       "      <td>1</td>\n",
       "      <td>160</td>\n",
       "      <td>1</td>\n",
       "      <td>20</td>\n",
       "      <td>0</td>\n",
       "      <td>327000.00</td>\n",
       "      <td>2.7</td>\n",
       "      <td>116</td>\n",
       "      <td>0</td>\n",
       "      <td>0</td>\n",
       "      <td>8</td>\n",
       "      <td>1</td>\n",
       "    </tr>\n",
       "  </tbody>\n",
       "</table>\n",
       "</div>"
      ],
      "text/plain": [
       "   ID   age  anaemia  creatinine_phosphokinase  diabetes  ejection_fraction  \\\n",
       "0   1  75.0        0                       582         0                 20   \n",
       "1   2  55.0        0                      7861         0                 38   \n",
       "2   3  65.0        0                       146         0                 20   \n",
       "3   4  50.0        1                       111         0                 20   \n",
       "4   5  65.0        1                       160         1                 20   \n",
       "\n",
       "   high_blood_pressure  platelets  serum_creatinine  serum_sodium  sex  \\\n",
       "0                    1  265000.00               1.9           130    1   \n",
       "1                    0  263358.03               1.1           136    1   \n",
       "2                    0  162000.00               1.3           129    1   \n",
       "3                    0  210000.00               1.9           137    1   \n",
       "4                    0  327000.00               2.7           116    0   \n",
       "\n",
       "   smoking  time  DEATH_EVENT  \n",
       "0        0     4            1  \n",
       "1        0     6            1  \n",
       "2        1     7            1  \n",
       "3        0     7            1  \n",
       "4        0     8            1  "
      ]
     },
     "execution_count": 2,
     "metadata": {},
     "output_type": "execute_result"
    }
   ],
   "source": [
    "df = pd.read_csv(\"HeartFailure.csv\")\n",
    "df.head()"
   ]
  },
  {
   "cell_type": "code",
   "execution_count": 3,
   "id": "324acd4d",
   "metadata": {},
   "outputs": [],
   "source": [
    "df_cluster = df.iloc[:,1:13]"
   ]
  },
  {
   "cell_type": "code",
   "execution_count": 4,
   "id": "f2c59a5a",
   "metadata": {},
   "outputs": [
    {
     "name": "stdout",
     "output_type": "stream",
     "text": [
      "[3, 4]\n"
     ]
    },
    {
     "ename": "TypeError",
     "evalue": "unsupported operand type(s) for -: 'list' and 'list'",
     "output_type": "error",
     "traceback": [
      "\u001b[1;31m---------------------------------------------------------------------------\u001b[0m",
      "\u001b[1;31mTypeError\u001b[0m                                 Traceback (most recent call last)",
      "Input \u001b[1;32mIn [4]\u001b[0m, in \u001b[0;36m<cell line: 9>\u001b[1;34m()\u001b[0m\n\u001b[0;32m     11\u001b[0m b \u001b[38;5;241m=\u001b[39m pair[\u001b[38;5;241m1\u001b[39m]\n\u001b[0;32m     13\u001b[0m \u001b[38;5;28mprint\u001b[39m(b)\n\u001b[1;32m---> 14\u001b[0m r \u001b[38;5;241m=\u001b[39m np\u001b[38;5;241m.\u001b[39mlinalg\u001b[38;5;241m.\u001b[39mnorm(\u001b[43ma\u001b[49m\u001b[38;5;241;43m-\u001b[39;49m\u001b[43mb\u001b[49m)\n\u001b[0;32m     16\u001b[0m \u001b[38;5;28;01mfor\u001b[39;00m points \u001b[38;5;129;01min\u001b[39;00m r:\n\u001b[0;32m     17\u001b[0m     \u001b[38;5;28mprint\u001b[39m(points)\n",
      "\u001b[1;31mTypeError\u001b[0m: unsupported operand type(s) for -: 'list' and 'list'"
     ]
    }
   ],
   "source": [
    "#try1\n",
    "g =[[1,2],[3,4],[5,6]]\n",
    "\n",
    "aij = []\n",
    "   \n",
    "s = 1\n",
    "R = 8\n",
    "\n",
    "for pair in itertools.combinations(g,2):\n",
    "    a = pair[0]\n",
    "    b = pair[1]\n",
    "    \n",
    "    print(b)\n",
    "    r = np.linalg.norm(a-b)\n",
    "    \n",
    "    for points in r:\n",
    "        print(points)\n",
    "        if points<R:\n",
    "            c = [math.exp((np.linalg.norm(a-b) ** 2)/ 2*s**2)  for a, b in zip(a, b)]\n",
    "        else:\n",
    "            c = 0\n",
    "        print(c)\n",
    "    \n",
    "\n",
    "\n",
    "# adj=math.exp(-abs(g[0][0]-g[1][0]) ** 2 / 2* 2**2)\n",
    "# aij.append(adj)\n",
    "# print (aij)\n",
    "    \n",
    "    \n",
    "        "
   ]
  },
  {
   "cell_type": "code",
   "execution_count": null,
   "id": "1e22e8c7",
   "metadata": {},
   "outputs": [],
   "source": [
    "#try 2\n",
    "g =[[1,2],[6,4],[3,5]]\n",
    "aij = [[0 for _ in range(len(g))] for _ in range(len(g))]\n",
    "s= 0.4\n",
    "\n",
    "for pair in itertools.combinations(g,2):\n",
    "    a = np.array(pair[0])\n",
    "    b = np.array(pair[1])\n",
    "    \n",
    "    dist = [math.exp((np.linalg.norm(a-b) ** 2)/ 2*s**2)  for a, b in zip(a, b)]\n",
    "        \n",
    "    aij.append(dist)\n",
    "print(aij)\n",
    "    \n",
    "#     for points in r:\n",
    "#         print(points)\n",
    "#         if points<R:\n",
    "#             c = [math.exp((np.linalg.norm(a-b) ** 2)/ 2*s**2)  for a, b in zip(a, b)]\n",
    "#         else:\n",
    "#             c = 0\n",
    "#         print(c)\n"
   ]
  },
  {
   "cell_type": "code",
   "execution_count": 5,
   "id": "83be5f60",
   "metadata": {},
   "outputs": [
    {
     "name": "stdout",
     "output_type": "stream",
     "text": [
      "[[[1, 2], [6, 4]], [[1, 2], [3, 5]], [[6, 4], [3, 5]]]\n"
     ]
    },
    {
     "data": {
      "text/plain": [
       "[0.0,\n",
       " 5.385164807134504,\n",
       " 3.605551275463989,\n",
       " 5.385164807134504,\n",
       " 0.0,\n",
       " 3.605551275463989,\n",
       " 3.605551275463989,\n",
       " 3.1622776601683795,\n",
       " 0.0]"
      ]
     },
     "execution_count": 5,
     "metadata": {},
     "output_type": "execute_result"
    }
   ],
   "source": [
    "#try 3\n",
    "g =[[1,2],[6,4],[3,5]]\n",
    "aij = []\n",
    "c=[]\n",
    "\n",
    "def adjacency(a,b):\n",
    "    s= 0.4\n",
    "    d = math.dist(a,b)\n",
    "    function = math.exp((d)** 2)/ 2*s**2\n",
    "    return d  \n",
    "    \n",
    "\n",
    "for pair in itertools.combinations(g,2):\n",
    "    c.append(list(pair))\n",
    "    \n",
    "print(c)\n",
    "\n",
    "\n",
    "aa = adjacency(c[0][0],c[0][0])\n",
    "aij.append(aa)\n",
    "ab = adjacency(c[0][0],c[0][1])\n",
    "aij.append(ab)\n",
    "ac = adjacency(c[0][0],c[2][1])\n",
    "aij.append(ac)\n",
    "ba = adjacency(c[0][0],c[0][1])\n",
    "aij.append(ba)\n",
    "bb = adjacency(c[0][1],c[0][1])\n",
    "aij.append(bb)\n",
    "bc = adjacency(c[0][0],c[2][1])\n",
    "aij.append(bc)\n",
    "ca = adjacency(c[2][1],c[0][0])\n",
    "aij.append(ca)\n",
    "cb = adjacency(c[2][1],c[0][1])\n",
    "aij.append(cb)\n",
    "cc = adjacency(c[2][1],c[2][1])\n",
    "aij.append(cc)\n",
    "aij\n",
    "\n",
    "\n",
    "\n",
    "    \n",
    "    \n",
    "    \n",
    "    "
   ]
  },
  {
   "cell_type": "code",
   "execution_count": 6,
   "id": "e6d2c8d8",
   "metadata": {},
   "outputs": [
    {
     "name": "stderr",
     "output_type": "stream",
     "text": [
      "C:\\Users\\sitas\\AppData\\Local\\Programs\\Python\\Python310\\lib\\site-packages\\sklearn\\neighbors\\_distance_metric.py:10: FutureWarning: sklearn.neighbors.DistanceMetric has been moved to sklearn.metrics.DistanceMetric in 1.0. This import path will be removed in 1.3\n",
      "  warnings.warn(\n"
     ]
    },
    {
     "data": {
      "text/plain": [
       "array([[0.        , 5.38516481, 3.60555128],\n",
       "       [5.38516481, 0.        , 3.16227766],\n",
       "       [3.60555128, 3.16227766, 0.        ]])"
      ]
     },
     "execution_count": 6,
     "metadata": {},
     "output_type": "execute_result"
    }
   ],
   "source": [
    "# construt the graph with adjacency matrix\n",
    "g =[[1,2],[6,4],[3,5]]\n",
    "df = pd.DataFrame(g, columns=['x','y'])\n",
    "dist = DistanceMetric.get_metric('euclidean')\n",
    "matrix_dist = dist.pairwise(df.to_numpy())\n",
    "matrix_dist"
   ]
  },
  {
   "cell_type": "code",
   "execution_count": 7,
   "id": "5521283d",
   "metadata": {},
   "outputs": [],
   "source": [
    "'equation for adjacency'\n",
    "def equation(x):\n",
    "    s = 0.1\n",
    "    function = math.exp((x)** 2)/ 2*s**2\n",
    "    return x  "
   ]
  },
  {
   "cell_type": "code",
   "execution_count": 8,
   "id": "83a9cf4a",
   "metadata": {},
   "outputs": [
    {
     "name": "stdout",
     "output_type": "stream",
     "text": [
      "[[0.         5.38516481 3.60555128]\n",
      " [5.38516481 0.         3.16227766]\n",
      " [3.60555128 3.16227766 0.        ]]\n"
     ]
    }
   ],
   "source": [
    "vectorize = np.vectorize(equation)\n",
    "adjacency_matrix = vectorize(matrix_dist)\n",
    "print(adjacency_matrix)"
   ]
  },
  {
   "cell_type": "code",
   "execution_count": 9,
   "id": "f12545cd",
   "metadata": {},
   "outputs": [],
   "source": [
    "def draw_graph(G):\n",
    "    pos = nx.spring_layout(G)\n",
    "    nx.draw_networkx_nodes(G, pos)\n",
    "    nx.draw_networkx_labels(G, pos)\n",
    "    nx.draw_networkx_edges(G, pos, width=1.0, alpha=0.5)"
   ]
  },
  {
   "cell_type": "code",
   "execution_count": 10,
   "id": "f15af2c3",
   "metadata": {},
   "outputs": [
    {
     "data": {
      "image/png": "[encoded data removed]",
      "text/plain": [
       "<Figure size 432x288 with 1 Axes>"
      ]
     },
     "metadata": {},
     "output_type": "display_data"
    }
   ],
   "source": [
    "Graph=nx.from_numpy_matrix(matrix_dist)\n",
    "draw_graph(Graph)"
   ]
  },
  {
   "cell_type": "code",
   "execution_count": 11,
   "id": "d61ff8d7",
   "metadata": {},
   "outputs": [
    {
     "data": {
      "text/plain": [
       "DegreeView({0: 2, 1: 2, 2: 2})"
      ]
     },
     "execution_count": 11,
     "metadata": {},
     "output_type": "execute_result"
    }
   ],
   "source": [
    "D = Graph.degree()\n",
    "D"
   ]
  },
  {
   "cell_type": "code",
   "execution_count": 12,
   "id": "2a4fcfcb",
   "metadata": {},
   "outputs": [
    {
     "name": "stdout",
     "output_type": "stream",
     "text": [
      "degree matrix:\n",
      "[[2. 0. 0.]\n",
      " [0. 2. 0.]\n",
      " [0. 0. 2.]]\n"
     ]
    }
   ],
   "source": [
    "degrees = [val for (node, val) in Graph.degree()]\n",
    "# degree matrix\n",
    "D = np.zeros((len(degrees), len(degrees)))\n",
    "np.fill_diagonal(D, degrees)\n",
    "print('degree matrix:')\n",
    "print(D)"
   ]
  },
  {
   "cell_type": "code",
   "execution_count": 18,
   "id": "1cee9603",
   "metadata": {},
   "outputs": [
    {
     "name": "stdout",
     "output_type": "stream",
     "text": [
      "[[ 2.         -5.38516481 -3.60555128]\n",
      " [-5.38516481  2.         -3.16227766]\n",
      " [-3.60555128 -3.16227766  2.        ]]\n",
      "laplacian matrix:\n",
      "[[  1. -inf -inf]\n",
      " [-inf   1. -inf]\n",
      " [-inf -inf   1.]]\n"
     ]
    },
    {
     "name": "stderr",
     "output_type": "stream",
     "text": [
      "C:\\Users\\sitas\\AppData\\Local\\Temp\\ipykernel_6540\\3959409885.py:3: RuntimeWarning: divide by zero encountered in power\n",
      "  LN = np.power(D,-0.5)* L* np.power(D,-0.5)\n"
     ]
    }
   ],
   "source": [
    "L = D - matrix_dist\n",
    "print(L)\n",
    "LN = np.power(D,-0.5)* L* np.power(D,-0.5)\n",
    "print('laplacian matrix:')\n",
    "print(LN)"
   ]
  },
  {
   "cell_type": "code",
   "execution_count": 14,
   "id": "45f2dea4",
   "metadata": {},
   "outputs": [
    {
     "ename": "LinAlgError",
     "evalue": "Array must not contain infs or NaNs",
     "output_type": "error",
     "traceback": [
      "\u001b[1;31m---------------------------------------------------------------------------\u001b[0m",
      "\u001b[1;31mLinAlgError\u001b[0m                               Traceback (most recent call last)",
      "Input \u001b[1;32mIn [14]\u001b[0m, in \u001b[0;36m<cell line: 1>\u001b[1;34m()\u001b[0m\n\u001b[1;32m----> 1\u001b[0m e, v \u001b[38;5;241m=\u001b[39m \u001b[43mnp\u001b[49m\u001b[38;5;241;43m.\u001b[39;49m\u001b[43mlinalg\u001b[49m\u001b[38;5;241;43m.\u001b[39;49m\u001b[43meig\u001b[49m\u001b[43m(\u001b[49m\u001b[43mLN\u001b[49m\u001b[43m)\u001b[49m\n\u001b[0;32m      2\u001b[0m \u001b[38;5;66;03m# eigenvalues\u001b[39;00m\n\u001b[0;32m      3\u001b[0m \u001b[38;5;28mprint\u001b[39m(\u001b[38;5;124m'\u001b[39m\u001b[38;5;124meigenvalues:\u001b[39m\u001b[38;5;124m'\u001b[39m)\n",
      "File \u001b[1;32m<__array_function__ internals>:180\u001b[0m, in \u001b[0;36meig\u001b[1;34m(*args, **kwargs)\u001b[0m\n",
      "File \u001b[1;32m~\\AppData\\Roaming\\Python\\Python310\\site-packages\\numpy\\linalg\\linalg.py:1312\u001b[0m, in \u001b[0;36meig\u001b[1;34m(a)\u001b[0m\n\u001b[0;32m   1310\u001b[0m _assert_stacked_2d(a)\n\u001b[0;32m   1311\u001b[0m _assert_stacked_square(a)\n\u001b[1;32m-> 1312\u001b[0m \u001b[43m_assert_finite\u001b[49m\u001b[43m(\u001b[49m\u001b[43ma\u001b[49m\u001b[43m)\u001b[49m\n\u001b[0;32m   1313\u001b[0m t, result_t \u001b[38;5;241m=\u001b[39m _commonType(a)\n\u001b[0;32m   1315\u001b[0m extobj \u001b[38;5;241m=\u001b[39m get_linalg_error_extobj(\n\u001b[0;32m   1316\u001b[0m     _raise_linalgerror_eigenvalues_nonconvergence)\n",
      "File \u001b[1;32m~\\AppData\\Roaming\\Python\\Python310\\site-packages\\numpy\\linalg\\linalg.py:209\u001b[0m, in \u001b[0;36m_assert_finite\u001b[1;34m(*arrays)\u001b[0m\n\u001b[0;32m    207\u001b[0m \u001b[38;5;28;01mfor\u001b[39;00m a \u001b[38;5;129;01min\u001b[39;00m arrays:\n\u001b[0;32m    208\u001b[0m     \u001b[38;5;28;01mif\u001b[39;00m \u001b[38;5;129;01mnot\u001b[39;00m isfinite(a)\u001b[38;5;241m.\u001b[39mall():\n\u001b[1;32m--> 209\u001b[0m         \u001b[38;5;28;01mraise\u001b[39;00m LinAlgError(\u001b[38;5;124m\"\u001b[39m\u001b[38;5;124mArray must not contain infs or NaNs\u001b[39m\u001b[38;5;124m\"\u001b[39m)\n",
      "\u001b[1;31mLinAlgError\u001b[0m: Array must not contain infs or NaNs"
     ]
    }
   ],
   "source": [
    "e, v = np.linalg.eig(LN)\n",
    "# eigenvalues\n",
    "print('eigenvalues:')\n",
    "print(e)\n",
    "# eigenvectors\n",
    "print('eigenvectors:')\n",
    "print(v)"
   ]
  },
  {
   "cell_type": "code",
   "execution_count": null,
   "id": "6031e8be",
   "metadata": {},
   "outputs": [],
   "source": [
    "# Trying alternate methods\n",
    "for i in range(0,len(matrix_dist)):\n",
    "    matrix_dist[i][i]= adjacency(matrix_dist[i][i])\n",
    "result = equation(matrix_dist[1][0])\n",
    "result"
   ]
  },
  {
   "cell_type": "code",
   "execution_count": null,
   "id": "3310fd8a",
   "metadata": {},
   "outputs": [],
   "source": [
    "print(np.apply_along_axis(adjacency, axis=1, arr=matrix_dist))"
   ]
  },
  {
   "cell_type": "code",
   "execution_count": null,
   "id": "8595aa9c",
   "metadata": {},
   "outputs": [],
   "source": [
    "matrix_dist1 = np.array(list(map(adjacency,matrix_dist)))"
   ]
  }
 ],
 "metadata": {
  "kernelspec": {
   "display_name": "Python 3 (ipykernel)",
   "language": "python",
   "name": "python3"
  },
  "language_info": {
   "codemirror_mode": {
    "name": "ipython",
    "version": 3
   },
   "file_extension": ".py",
   "mimetype": "text/x-python",
   "name": "python",
   "nbconvert_exporter": "python",
   "pygments_lexer": "ipython3",
   "version": "3.10.6"
  }
 },
 "nbformat": 4,
 "nbformat_minor": 5
}
