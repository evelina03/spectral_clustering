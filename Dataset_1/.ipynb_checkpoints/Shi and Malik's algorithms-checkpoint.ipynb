{
 "cells": [
  {
   "cell_type": "code",
   "execution_count": null,
   "id": "dbd841d0",
   "metadata": {},
   "outputs": [],
   "source": [
    "\n",
    "'''Pakages to import'''\n",
    "import numpy as np\n",
    "import pandas as pd\n",
    "import math\n",
    "import itertools\n",
    "from sklearn.metrics import DistanceMetric\n",
    "import networkx as nx\n",
    "from numpy import inf\n",
    "from scipy import linalg\n",
    "from matplotlib import pyplot as plt\n",
    "from sklearn.cluster import KMeans\n",
    "import warnings\n",
    "warnings.filterwarnings(\"ignore\", category=np.VisibleDeprecationWarning) \n",
    "from scipy.spatial.distance import pdist\n",
    "from sklearn.preprocessing import StandardScaler, normalize\n",
    "from sklearn.decomposition import PCA\n",
    "from sklearn.metrics import silhouette_samples, silhouette_score\n",
    "\n"
   ]
  },
  {
   "cell_type": "code",
   "execution_count": null,
   "id": "7e3a2e06",
   "metadata": {},
   "outputs": [],
   "source": [
    "# Uploading the Da\n",
    "df = pd.read_csv(\"HeartFailure.csv\")\n",
    "df_cluster = df.iloc[:,1:11]\n",
    "df_cluster.head()"
   ]
  },
  {
   "cell_type": "code",
   "execution_count": null,
   "id": "c097c86a",
   "metadata": {},
   "outputs": [],
   "source": [
    "def data_preprocessing(df):\n",
    "    scaler = StandardScaler()\n",
    "    df_scaled = scaler.fit_transform(df)\n",
    "    df_normalized = normalize(df_scaled)\n",
    "    df_normalized = pd.DataFrame(df_normalized)\n",
    "    pca = PCA(n_components = 2)\n",
    "    df_principal = pca.fit_transform(df_normalized)\n",
    "    df_principal = pd.DataFrame(df_principal)\n",
    "    df_principal.columns = ['P1', 'P2']\n",
    "    return df_principal"
   ]
  },
  {
   "cell_type": "code",
   "execution_count": null,
   "id": "faf0f86c",
   "metadata": {},
   "outputs": [],
   "source": [
    "df_pca_cluster= datapreprocessing(df_cluster)"
   ]
  },
  {
   "cell_type": "code",
   "execution_count": null,
   "id": "93966de1",
   "metadata": {},
   "outputs": [],
   "source": [
    "# coverting the input csv file into a graph\n",
    "'''  '''\n",
    "def get_graph(df,measure) :\n",
    "    \n",
    "    dist = DistanceMetric.get_metric(measure)\n",
    "    matrix_dist = dist.pairwise(df.to_numpy())\n",
    "    Graph = nx.from_numpy_matrix(matrix_dist)\n",
    "    draw_graph(Graph)\n",
    "    \n",
    "    return matrix_dist, Graph\n",
    "    "
   ]
  },
  {
   "cell_type": "code",
   "execution_count": null,
   "id": "7ec76105",
   "metadata": {},
   "outputs": [],
   "source": [
    "#Function to draw graph\n",
    "def draw_graph(G):\n",
    "    pos = nx.spring_layout(G)\n",
    "    nx.draw_networkx_nodes(G, pos)\n",
    "    nx.draw_networkx_labels(G, pos)\n",
    "    nx.draw_networkx_edges(G, pos, width=1.0, alpha=0.5)"
   ]
  },
  {
   "cell_type": "code",
   "execution_count": null,
   "id": "3b9cbef6",
   "metadata": {},
   "outputs": [],
   "source": [
    "matrix_dist, Graph = get_graph(df_cluster,\"euclidean\")\n",
    "matrix_dist"
   ]
  },
  {
   "cell_type": "code",
   "execution_count": null,
   "id": "1c4d9488",
   "metadata": {},
   "outputs": [],
   "source": [
    "#equation fro adjacency matrix\n",
    "def adjacency_equation_shi_malik(df, sigma, distance):\n",
    "    dim = df.shape[0]\n",
    "    A = np.zeros([dim, dim])\n",
    "    dist = iter(pdist(df, metric=distance))\n",
    "#     matrix_dist = dist.pairwise(df.to_numpy())\n",
    "    for i in range(dim):\n",
    "        for j in range(i+1, dim):  \n",
    "            d = np.exp(-next(dist) ** 2) / (2. * sigma ** 2)\n",
    "            A[i,j] = d\n",
    "            A[j,i] = d\n",
    "    return A\n"
   ]
  },
  {
   "cell_type": "code",
   "execution_count": null,
   "id": "b8ed5808",
   "metadata": {},
   "outputs": [],
   "source": [
    "adjacency_matrix = adjacency_equation_shi_malik(df_pca_cluster, 0.3, 'euclidean')\n",
    "# adacency_matrix= getAjacency(df_cluster)\n",
    "adjacency_matrix\n"
   ]
  },
  {
   "cell_type": "code",
   "execution_count": null,
   "id": "d61ff8d7",
   "metadata": {},
   "outputs": [],
   "source": [
    "def get_laplacian(Graph,matrix_dist):\n",
    "    D = Graph.degree()\n",
    "    degrees = [val for (node, val) in Graph.degree()]\n",
    "    D = np.zeros((len(degrees), len(degrees)))\n",
    "    np.fill_diagonal(D, degrees)\n",
    "    L = D - matrix_dist\n",
    "    \n",
    "#Normalized laplacian matrix\n",
    "    D_half = linalg.fractional_matrix_power(D, -0.5)\n",
    "    LN = np.matmul(np.matmul(D_half, L), D_half)\n",
    "    return D,L,LN\n"
   ]
  },
  {
   "cell_type": "code",
   "execution_count": null,
   "id": "56a748a5",
   "metadata": {},
   "outputs": [],
   "source": [
    "D,L,LN = get_laplacian(Graph,adjacency_matrix)\n",
    "e, v = np.linalg.eig(LN)\n",
    "e = e.real\n",
    "v = v.real"
   ]
  },
  {
   "cell_type": "code",
   "execution_count": null,
   "id": "b65a5c48",
   "metadata": {},
   "outputs": [],
   "source": [
    "LN"
   ]
  },
  {
   "cell_type": "code",
   "execution_count": null,
   "id": "11c5ff52",
   "metadata": {},
   "outputs": [],
   "source": [
    "v"
   ]
  },
  {
   "cell_type": "code",
   "execution_count": null,
   "id": "dd5dcd33",
   "metadata": {},
   "outputs": [],
   "source": [
    "fig = plt.figure()\n",
    "ax1 = plt.subplot(121)\n",
    "plt.plot(e)\n",
    "ax1.title.set_text('eigenvalues')\n",
    "i = np.where(e < 10e-6)[0]\n",
    "ax2 = plt.subplot(122)\n",
    "plt.plot(v[:, i[0]])\n",
    "fig.tight_layout()\n",
    "plt.show()"
   ]
  },
  {
   "cell_type": "code",
   "execution_count": null,
   "id": "fe15c612",
   "metadata": {},
   "outputs": [],
   "source": [
    "#find optimal number of clusters\n",
    "\n",
    "def silhouette(df):\n",
    "    range_n_clusters = [2,3,4,5,6,7,8,9,10,11,12,13,14]\n",
    "    silhouette_avg = []\n",
    "\n",
    "    for num_clusters in range_n_clusters:\n",
    "        kmeans = KMeans(n_clusters=num_clusters)\n",
    "        kmeans.fit(df)\n",
    "        cluster_labels = kmeans.labels_  \n",
    "        silhouette_avg.append(silhouette_score(df, cluster_labels))\n",
    "        \n",
    "    plt.plot(range_n_clusters,silhouette_avg,'-bx')\n",
    "    plt.xlabel('Values of K') \n",
    "    plt.ylabel('Silhouette score') \n",
    "    plt.title('Silhouette analysis For Optimal k')\n",
    "    plt.show()\n",
    "    \n"
   ]
  },
  {
   "cell_type": "code",
   "execution_count": null,
   "id": "8332867a",
   "metadata": {},
   "outputs": [],
   "source": [
    "silhouette(df_cluster)"
   ]
  },
  {
   "cell_type": "code",
   "execution_count": null,
   "id": "f142c405",
   "metadata": {},
   "outputs": [],
   "source": [
    "silhouette(df_pca_cluster)"
   ]
  },
  {
   "cell_type": "code",
   "execution_count": null,
   "id": "4d74fda2",
   "metadata": {},
   "outputs": [],
   "source": [
    "def elbowmethod(df):\n",
    "    Sum_of_squared_distances = []\n",
    "    K = range(1,10)\n",
    "    for num_clusters in K :\n",
    "        kmeans = KMeans(n_clusters=num_clusters)\n",
    "        kmeans.fit(df)\n",
    "        Sum_of_squared_distances.append(kmeans.inertia_)\n",
    "    plt.plot(K,Sum_of_squared_distances,'-bx')\n",
    "    plt.xlabel('Values of K') \n",
    "    plt.ylabel('Sum of squared distances/') \n",
    "    plt.title('Elbow Method For Optimal k')\n",
    "    plt.show()\n",
    "    \n"
   ]
  },
  {
   "cell_type": "code",
   "execution_count": null,
   "id": "2e10d859",
   "metadata": {},
   "outputs": [],
   "source": [
    "elbowmethod(df_cluster)"
   ]
  },
  {
   "cell_type": "code",
   "execution_count": null,
   "id": "e4c7a118",
   "metadata": {},
   "outputs": [],
   "source": [
    "elbowmethod(df_pca_cluster)"
   ]
  },
  {
   "cell_type": "code",
   "execution_count": null,
   "id": "809df3aa",
   "metadata": {},
   "outputs": [],
   "source": [
    "U = np.array(v[:, i[0]]).reshape(-1, 1)\n",
    "km = KMeans(init='k-means++',n_clusters= 8)\n",
    "df['clusters'] = km.fit_predict(U)\n",
    "df"
   ]
  },
  {
   "cell_type": "code",
   "execution_count": null,
   "id": "627ddf8d",
   "metadata": {},
   "outputs": [],
   "source": []
  }
 ],
 "metadata": {
  "kernelspec": {
   "display_name": "Python 3 (ipykernel)",
   "language": "python",
   "name": "python3"
  },
  "language_info": {
   "codemirror_mode": {
    "name": "ipython",
    "version": 3
   },
   "file_extension": ".py",
   "mimetype": "text/x-python",
   "name": "python",
   "nbconvert_exporter": "python",
   "pygments_lexer": "ipython3",
   "version": "3.10.6"
  }
 },
 "nbformat": 4,
 "nbformat_minor": 5
}
