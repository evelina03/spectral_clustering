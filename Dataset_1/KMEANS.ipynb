{
 "cells": [
  {
   "cell_type": "code",
   "execution_count": null,
   "id": "900a5c6d",
   "metadata": {},
   "outputs": [],
   "source": [
    "import pandas as pd\n",
    "import numpy as np\n",
    "import matplotlib.pyplot as plt\n",
    "import plotly.express as px\n",
    "from sklearn.decomposition import PCA\n",
    "from sklearn.cluster import KMeans\n",
    "import seaborn as sns\n",
    "from sklearn.preprocessing import StandardScaler, normalize"
   ]
  },
  {
   "cell_type": "code",
   "execution_count": null,
   "id": "604776ee",
   "metadata": {},
   "outputs": [],
   "source": [
    "df = pd.read_csv(\"HeartFailure.csv\")\n",
    "df.head()"
   ]
  },
  {
   "cell_type": "code",
   "execution_count": null,
   "id": "7998a8da",
   "metadata": {},
   "outputs": [],
   "source": [
    "df.shape"
   ]
  },
  {
   "cell_type": "code",
   "execution_count": null,
   "id": "07122476",
   "metadata": {},
   "outputs": [],
   "source": [
    "df_cluster = df.iloc[:,1:13]\n",
    "df_cluster.head()"
   ]
  },
  {
   "cell_type": "code",
   "execution_count": 1,
   "id": "2b884f72",
   "metadata": {},
   "outputs": [
    {
     "ename": "NameError",
     "evalue": "name 'kmeans' is not defined",
     "output_type": "error",
     "traceback": [
      "\u001b[1;31m---------------------------------------------------------------------------\u001b[0m",
      "\u001b[1;31mNameError\u001b[0m                                 Traceback (most recent call last)",
      "Input \u001b[1;32mIn [1]\u001b[0m, in \u001b[0;36m<cell line: 1>\u001b[1;34m()\u001b[0m\n\u001b[1;32m----> 1\u001b[0m df , plot \u001b[38;5;241m=\u001b[39m \u001b[43mkmeans\u001b[49m(df_cluster2, \u001b[38;5;241m2\u001b[39m)\n",
      "\u001b[1;31mNameError\u001b[0m: name 'kmeans' is not defined"
     ]
    }
   ],
   "source": [
    "df , plot = kmeans(df_cluster2, 2)"
   ]
  },
  {
   "cell_type": "code",
   "execution_count": null,
   "id": "b7c05c51",
   "metadata": {},
   "outputs": [],
   "source": [
    "# Kmeans Clustering\n",
    "def kmeans(df, n):\n",
    "    \"\"\"Function to perform kmeans\n",
    "    Args:\n",
    "        df (dataframe): dataframe of points to be clustered\n",
    "        n (integer): number of clusters\n",
    "    \"\"\"\n",
    "    kmeans = KMeans(n_clusters=n)\n",
    "    df['cluster'] = kmeans.fit_predict(df)\n",
    "\n",
    "    centroids = kmeans.cluster_centers_\n",
    "    cen_x = [i[0] for i in centroids] \n",
    "    cen_y = [i[1] for i in centroids]\n",
    "\n",
    "    df['cen_x'] = df.cluster.map({0:cen_x[0], 1:cen_x[1]})\n",
    "    df['cen_y'] = df.cluster.map({0:cen_y[0], 1:cen_y[1]})\n",
    "    \n",
    "    pca = PCA(2)\n",
    "    \n",
    "    df['PC1'] = pca.fit_transform(df)[:,0]\n",
    "    df['PC2'] = pca.fit_transform(df)[:,1]\n",
    "\n",
    " \n",
    "    plot = sns.scatterplot(data=df,x=\"PC1\",y=\"PC2\",hue=df['cluster'])\n",
    "    \n",
    "    return df, plot       "
   ]
  },
  {
   "cell_type": "code",
   "execution_count": null,
   "id": "3c1c0c12",
   "metadata": {},
   "outputs": [],
   "source": [
    "df , plot = kmeans(df_cluster, 2)\n",
    "df.head()"
   ]
  },
  {
   "cell_type": "code",
   "execution_count": null,
   "id": "4d060c0f",
   "metadata": {},
   "outputs": [],
   "source": [
    "df.head()"
   ]
  },
  {
   "cell_type": "code",
   "execution_count": null,
   "id": "afd55ea1",
   "metadata": {},
   "outputs": [],
   "source": [
    "# Visualize cluster 1\n",
    "df[df_cluster['cluster'] == 0]"
   ]
  },
  {
   "cell_type": "code",
   "execution_count": null,
   "id": "a58fce85",
   "metadata": {},
   "outputs": [],
   "source": [
    "# Visualize cluster 2 \n",
    "df[df_cluster['cluster'] == 1]"
   ]
  },
  {
   "cell_type": "code",
   "execution_count": null,
   "id": "1c052541",
   "metadata": {},
   "outputs": [],
   "source": [
    "def cluster_visualization(df):\n",
    "    cluster_list = []\n",
    "    n = df.cluster.unique()\n",
    "    \n",
    "    for i in n:\n",
    "        cluster_list.append(df[df['cluster'] == i])\n",
    "    return cluster_list\n",
    "        "
   ]
  },
  {
   "cell_type": "code",
   "execution_count": null,
   "id": "7f9c67c9",
   "metadata": {},
   "outputs": [],
   "source": [
    "clusters = cluster_visualization(df_cluster)\n"
   ]
  },
  {
   "cell_type": "code",
   "execution_count": null,
   "id": "fd59cea5",
   "metadata": {},
   "outputs": [],
   "source": [
    "clusters[0]"
   ]
  }
 ],
 "metadata": {
  "kernelspec": {
   "display_name": "Python 3 (ipykernel)",
   "language": "python",
   "name": "python3"
  },
  "language_info": {
   "codemirror_mode": {
    "name": "ipython",
    "version": 3
   },
   "file_extension": ".py",
   "mimetype": "text/x-python",
   "name": "python",
   "nbconvert_exporter": "python",
   "pygments_lexer": "ipython3",
   "version": "3.10.6"
  }
 },
 "nbformat": 4,
 "nbformat_minor": 5
}
