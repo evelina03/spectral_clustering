{
 "cells": [
  {
   "cell_type": "code",
   "execution_count": 3,
   "id": "dbd841d0",
   "metadata": {},
   "outputs": [],
   "source": [
    "import numpy as np\n",
    "import pandas as pd\n",
    "import math\n",
    "import itertools\n",
    "from sklearn.neighbors import DistanceMetric\n",
    "import networkx as nx\n",
    "from numpy import inf\n"
   ]
  },
  {
   "cell_type": "code",
   "execution_count": null,
   "id": "93966de1",
   "metadata": {},
   "outputs": [],
   "source": [
    "df = pd.read_csv(\"HeartFailure.csv\")\n",
    "df.head()"
   ]
  },
  {
   "cell_type": "code",
   "execution_count": null,
   "id": "324acd4d",
   "metadata": {},
   "outputs": [],
   "source": [
    "df_cluster = df.iloc[:,1:13]"
   ]
  },
  {
   "cell_type": "code",
   "execution_count": null,
   "id": "f2c59a5a",
   "metadata": {},
   "outputs": [],
   "source": [
    "#try1\n",
    "g =[[1,2],[3,4],[5,6]]\n",
    "\n",
    "aij = []\n",
    "   \n",
    "s = 1\n",
    "R = 8\n",
    "\n",
    "for pair in itertools.combinations(g,2):\n",
    "    a = pair[0]\n",
    "    b = pair[1]\n",
    "    \n",
    "    print(b)\n",
    "    r = np.linalg.norm(a-b)\n",
    "    \n",
    "    for points in r:\n",
    "        print(points)\n",
    "        if points<R:\n",
    "            c = [math.exp((np.linalg.norm(a-b) ** 2)/ 2*s**2)  for a, b in zip(a, b)]\n",
    "        else:\n",
    "            c = 0\n",
    "        print(c)\n",
    "    \n",
    "\n",
    "\n",
    "# adj=math.exp(-abs(g[0][0]-g[1][0]) ** 2 / 2* 2**2)\n",
    "# aij.append(adj)\n",
    "# print (aij)\n",
    "    \n",
    "    \n",
    "        "
   ]
  },
  {
   "cell_type": "code",
   "execution_count": null,
   "id": "1e22e8c7",
   "metadata": {},
   "outputs": [],
   "source": [
    "#try 2\n",
    "g =[[1,2],[6,4],[3,5]]\n",
    "aij = [[0 for _ in range(len(g))] for _ in range(len(g))]\n",
    "s= 0.4\n",
    "\n",
    "for pair in itertools.combinations(g,2):\n",
    "    a = np.array(pair[0])\n",
    "    b = np.array(pair[1])\n",
    "    \n",
    "    dist = [math.exp((np.linalg.norm(a-b) ** 2)/ 2*s**2)  for a, b in zip(a, b)]\n",
    "        \n",
    "    aij.append(dist)\n",
    "print(aij)\n",
    "    \n",
    "#     for points in r:\n",
    "#         print(points)\n",
    "#         if points<R:\n",
    "#             c = [math.exp((np.linalg.norm(a-b) ** 2)/ 2*s**2)  for a, b in zip(a, b)]\n",
    "#         else:\n",
    "#             c = 0\n",
    "#         print(c)\n"
   ]
  },
  {
   "cell_type": "code",
   "execution_count": null,
   "id": "83be5f60",
   "metadata": {},
   "outputs": [],
   "source": [
    "#try 3\n",
    "g =[[1,2],[6,4],[3,5]]\n",
    "aij = []\n",
    "c=[]\n",
    "\n",
    "def adjacency(a,b):\n",
    "    s= 0.4\n",
    "    d = math.dist(a,b)\n",
    "    function = math.exp((d)** 2)/ 2*s**2\n",
    "    return d  \n",
    "    \n",
    "\n",
    "for pair in itertools.combinations(g,2):\n",
    "    c.append(list(pair))\n",
    "    \n",
    "print(c)\n",
    "\n",
    "\n",
    "aa = adjacency(c[0][0],c[0][0])\n",
    "aij.append(aa)\n",
    "ab = adjacency(c[0][0],c[0][1])\n",
    "aij.append(ab)\n",
    "ac = adjacency(c[0][0],c[2][1])\n",
    "aij.append(ac)\n",
    "ba = adjacency(c[0][0],c[0][1])\n",
    "aij.append(ba)\n",
    "bb = adjacency(c[0][1],c[0][1])\n",
    "aij.append(bb)\n",
    "bc = adjacency(c[0][0],c[2][1])\n",
    "aij.append(bc)\n",
    "ca = adjacency(c[2][1],c[0][0])\n",
    "aij.append(ca)\n",
    "cb = adjacency(c[2][1],c[0][1])\n",
    "aij.append(cb)\n",
    "cc = adjacency(c[2][1],c[2][1])\n",
    "aij.append(cc)\n",
    "aij\n",
    "\n",
    "\n",
    "\n",
    "    \n",
    "    \n",
    "    \n",
    "    "
   ]
  },
  {
   "cell_type": "code",
   "execution_count": 4,
   "id": "e6d2c8d8",
   "metadata": {},
   "outputs": [
    {
     "name": "stderr",
     "output_type": "stream",
     "text": [
      "C:\\Users\\sitas\\AppData\\Local\\Programs\\Python\\Python310\\lib\\site-packages\\sklearn\\neighbors\\_distance_metric.py:10: FutureWarning: sklearn.neighbors.DistanceMetric has been moved to sklearn.metrics.DistanceMetric in 1.0. This import path will be removed in 1.3\n",
      "  warnings.warn(\n"
     ]
    },
    {
     "data": {
      "text/plain": [
       "array([[0.        , 5.38516481, 3.60555128],\n",
       "       [5.38516481, 0.        , 3.16227766],\n",
       "       [3.60555128, 3.16227766, 0.        ]])"
      ]
     },
     "execution_count": 4,
     "metadata": {},
     "output_type": "execute_result"
    }
   ],
   "source": [
    "# construt the graph with adjacency matrix\n",
    "g =[[1,2],[6,4],[3,5]]\n",
    "df = pd.DataFrame(g, columns=['x','y'])\n",
    "dist = DistanceMetric.get_metric('euclidean')\n",
    "matrix_dist = dist.pairwise(df.to_numpy())\n",
    "matrix_dist"
   ]
  },
  {
   "cell_type": "code",
   "execution_count": 5,
   "id": "5521283d",
   "metadata": {},
   "outputs": [],
   "source": [
    "'equation for adjacency'\n",
    "def equation(x):\n",
    "    s = 0.1\n",
    "    function = math.exp((x)** 2)/ 2*s**2\n",
    "    return x  "
   ]
  },
  {
   "cell_type": "code",
   "execution_count": 9,
   "id": "83a9cf4a",
   "metadata": {},
   "outputs": [],
   "source": [
    "# vectorize = np.vectorize(equation)\n",
    "# adjacency_matrix = equation(matrix_dist)\n",
    "# print(adjacency_matrix)"
   ]
  },
  {
   "cell_type": "code",
   "execution_count": 6,
   "id": "f12545cd",
   "metadata": {},
   "outputs": [],
   "source": [
    "def draw_graph(G):\n",
    "    pos = nx.spring_layout(G)\n",
    "    nx.draw_networkx_nodes(G, pos)\n",
    "    nx.draw_networkx_labels(G, pos)\n",
    "    nx.draw_networkx_edges(G, pos, width=1.0, alpha=0.5)"
   ]
  },
  {
   "cell_type": "code",
   "execution_count": 7,
   "id": "f15af2c3",
   "metadata": {},
   "outputs": [
    {
     "data": {
      "image/png": "[encoded data removed]",
      "text/plain": [
       "<Figure size 432x288 with 1 Axes>"
      ]
     },
     "metadata": {},
     "output_type": "display_data"
    }
   ],
   "source": [
    "Graph=nx.from_numpy_matrix(matrix_dist)\n",
    "draw_graph(Graph)"
   ]
  },
  {
   "cell_type": "code",
   "execution_count": 25,
   "id": "2ae76f24",
   "metadata": {},
   "outputs": [
    {
     "data": {
      "text/plain": [
       "array([[0.        , 5.38516481, 3.60555128],\n",
       "       [5.38516481, 0.        , 3.16227766],\n",
       "       [3.60555128, 3.16227766, 0.        ]])"
      ]
     },
     "execution_count": 25,
     "metadata": {},
     "output_type": "execute_result"
    }
   ],
   "source": [
    "matrix_dist[1][1]\n",
    "mat = np.array([0]*len(matrix_dist))\n",
    "for row in matrix_dist:\n",
    "    for point in row:\n",
    "        point = equation(point)\n",
    "matrix_dist\n",
    "        \n",
    "            \n",
    "    \n"
   ]
  },
  {
   "cell_type": "code",
   "execution_count": 6,
   "id": "d61ff8d7",
   "metadata": {},
   "outputs": [
    {
     "data": {
      "text/plain": [
       "DegreeView({0: 2, 1: 2, 2: 2})"
      ]
     },
     "execution_count": 6,
     "metadata": {},
     "output_type": "execute_result"
    }
   ],
   "source": [
    "D = Graph.degree()\n",
    "D"
   ]
  },
  {
   "cell_type": "code",
   "execution_count": null,
   "id": "2a4fcfcb",
   "metadata": {},
   "outputs": [],
   "source": [
    "degrees = [val for (node, val) in Graph.degree()]\n",
    "# degree matrix\n",
    "D = np.zeros((len(degrees), len(degrees)))\n",
    "np.fill_diagonal(D, degrees)\n",
    "print('degree matrix:')\n",
    "print(D)"
   ]
  },
  {
   "cell_type": "code",
   "execution_count": null,
   "id": "1cee9603",
   "metadata": {},
   "outputs": [],
   "source": [
    "L = D - matrix_dist\n",
    "print(L)\n",
    "LN = np.power(D,-0.5)* L* np.power(D,-0.5)\n",
    "print('laplacian matrix:')\n",
    "print(LN)"
   ]
  },
  {
   "cell_type": "code",
   "execution_count": null,
   "id": "45f2dea4",
   "metadata": {},
   "outputs": [],
   "source": [
    "e, v = np.linalg.eig(LN)\n",
    "# eigenvalues\n",
    "print('eigenvalues:')\n",
    "print(e)\n",
    "# eigenvectors\n",
    "print('eigenvectors:')\n",
    "print(v)"
   ]
  },
  {
   "cell_type": "code",
   "execution_count": null,
   "id": "6031e8be",
   "metadata": {},
   "outputs": [],
   "source": [
    "# Trying alternate methods\n",
    "for i in range(0,len(matrix_dist)):\n",
    "    matrix_dist[i][i]= adjacency(matrix_dist[i][i])\n",
    "result = equation(matrix_dist[1][0])\n",
    "result"
   ]
  },
  {
   "cell_type": "code",
   "execution_count": null,
   "id": "3310fd8a",
   "metadata": {},
   "outputs": [],
   "source": [
    "print(np.apply_along_axis(adjacency, axis=1, arr=matrix_dist))"
   ]
  },
  {
   "cell_type": "code",
   "execution_count": null,
   "id": "8595aa9c",
   "metadata": {},
   "outputs": [],
   "source": [
    "matrix_dist1 = np.array(list(map(adjacency,matrix_dist)))"
   ]
  }
 ],
 "metadata": {
  "kernelspec": {
   "display_name": "Python 3 (ipykernel)",
   "language": "python",
   "name": "python3"
  },
  "language_info": {
   "codemirror_mode": {
    "name": "ipython",
    "version": 3
   },
   "file_extension": ".py",
   "mimetype": "text/x-python",
   "name": "python",
   "nbconvert_exporter": "python",
   "pygments_lexer": "ipython3",
   "version": "3.10.6"
  }
 },
 "nbformat": 4,
 "nbformat_minor": 5
}
