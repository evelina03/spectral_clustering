{
 "cells": [
  {
   "cell_type": "code",
   "execution_count": 1,
   "id": "dbd841d0",
   "metadata": {},
   "outputs": [],
   "source": [
    "import numpy as np\n",
    "import pandas as pd\n",
    "import math\n",
    "import itertools\n",
    "from sklearn.metrics import DistanceMetric\n",
    "import networkx as nx\n",
    "from numpy import inf\n",
    "from scipy import linalg\n",
    "from matplotlib import pyplot as plt\n",
    "from sklearn.cluster import KMeans\n",
    "import warnings\n",
    "warnings.filterwarnings(\"ignore\", category=np.VisibleDeprecationWarning) \n",
    "from scipy.spatial.distance import pdist\n",
    "from sklearn.preprocessing import StandardScaler, normalize\n",
    "from sklearn.decomposition import PCA\n",
    "from sklearn.metrics import silhouette_samples, silhouette_score\n",
    "\n"
   ]
  },
  {
   "cell_type": "code",
   "execution_count": 2,
   "id": "7e3a2e06",
   "metadata": {},
   "outputs": [
    {
     "data": {
      "text/html": [
       "<div>\n",
       "<style scoped>\n",
       "    .dataframe tbody tr th:only-of-type {\n",
       "        vertical-align: middle;\n",
       "    }\n",
       "\n",
       "    .dataframe tbody tr th {\n",
       "        vertical-align: top;\n",
       "    }\n",
       "\n",
       "    .dataframe thead th {\n",
       "        text-align: right;\n",
       "    }\n",
       "</style>\n",
       "<table border=\"1\" class=\"dataframe\">\n",
       "  <thead>\n",
       "    <tr style=\"text-align: right;\">\n",
       "      <th></th>\n",
       "      <th>age</th>\n",
       "      <th>anaemia</th>\n",
       "      <th>creatinine_phosphokinase</th>\n",
       "      <th>diabetes</th>\n",
       "      <th>ejection_fraction</th>\n",
       "      <th>high_blood_pressure</th>\n",
       "      <th>platelets</th>\n",
       "      <th>serum_creatinine</th>\n",
       "      <th>serum_sodium</th>\n",
       "      <th>sex</th>\n",
       "    </tr>\n",
       "  </thead>\n",
       "  <tbody>\n",
       "    <tr>\n",
       "      <th>0</th>\n",
       "      <td>75.0</td>\n",
       "      <td>0</td>\n",
       "      <td>582</td>\n",
       "      <td>0</td>\n",
       "      <td>20</td>\n",
       "      <td>1</td>\n",
       "      <td>265000.00</td>\n",
       "      <td>1.9</td>\n",
       "      <td>130</td>\n",
       "      <td>1</td>\n",
       "    </tr>\n",
       "    <tr>\n",
       "      <th>1</th>\n",
       "      <td>55.0</td>\n",
       "      <td>0</td>\n",
       "      <td>7861</td>\n",
       "      <td>0</td>\n",
       "      <td>38</td>\n",
       "      <td>0</td>\n",
       "      <td>263358.03</td>\n",
       "      <td>1.1</td>\n",
       "      <td>136</td>\n",
       "      <td>1</td>\n",
       "    </tr>\n",
       "    <tr>\n",
       "      <th>2</th>\n",
       "      <td>65.0</td>\n",
       "      <td>0</td>\n",
       "      <td>146</td>\n",
       "      <td>0</td>\n",
       "      <td>20</td>\n",
       "      <td>0</td>\n",
       "      <td>162000.00</td>\n",
       "      <td>1.3</td>\n",
       "      <td>129</td>\n",
       "      <td>1</td>\n",
       "    </tr>\n",
       "    <tr>\n",
       "      <th>3</th>\n",
       "      <td>50.0</td>\n",
       "      <td>1</td>\n",
       "      <td>111</td>\n",
       "      <td>0</td>\n",
       "      <td>20</td>\n",
       "      <td>0</td>\n",
       "      <td>210000.00</td>\n",
       "      <td>1.9</td>\n",
       "      <td>137</td>\n",
       "      <td>1</td>\n",
       "    </tr>\n",
       "    <tr>\n",
       "      <th>4</th>\n",
       "      <td>65.0</td>\n",
       "      <td>1</td>\n",
       "      <td>160</td>\n",
       "      <td>1</td>\n",
       "      <td>20</td>\n",
       "      <td>0</td>\n",
       "      <td>327000.00</td>\n",
       "      <td>2.7</td>\n",
       "      <td>116</td>\n",
       "      <td>0</td>\n",
       "    </tr>\n",
       "  </tbody>\n",
       "</table>\n",
       "</div>"
      ],
      "text/plain": [
       "    age  anaemia  creatinine_phosphokinase  diabetes  ejection_fraction  \\\n",
       "0  75.0        0                       582         0                 20   \n",
       "1  55.0        0                      7861         0                 38   \n",
       "2  65.0        0                       146         0                 20   \n",
       "3  50.0        1                       111         0                 20   \n",
       "4  65.0        1                       160         1                 20   \n",
       "\n",
       "   high_blood_pressure  platelets  serum_creatinine  serum_sodium  sex  \n",
       "0                    1  265000.00               1.9           130    1  \n",
       "1                    0  263358.03               1.1           136    1  \n",
       "2                    0  162000.00               1.3           129    1  \n",
       "3                    0  210000.00               1.9           137    1  \n",
       "4                    0  327000.00               2.7           116    0  "
      ]
     },
     "execution_count": 2,
     "metadata": {},
     "output_type": "execute_result"
    }
   ],
   "source": [
    "  # Uploading the files\n",
    "df = pd.read_csv(\"HeartFailure.csv\")\n",
    "df_cluster = df.iloc[:,1:11]\n",
    "df_cluster.head()"
   ]
  },
  {
   "cell_type": "code",
   "execution_count": 3,
   "id": "c097c86a",
   "metadata": {},
   "outputs": [],
   "source": [
    "def datapreprocessing(df):\n",
    "    scaler = StandardScaler()\n",
    "    df_scaled = scaler.fit_transform(df)\n",
    "    df_normalized = normalize(df_scaled)\n",
    "    df_normalized = pd.DataFrame(df_normalized)\n",
    "    pca = PCA(n_components = 2)\n",
    "    df_principal = pca.fit_transform(df_normalized)\n",
    "    df_principal = pd.DataFrame(df_principal)\n",
    "    df_principal.columns = ['P1', 'P2']\n",
    "    return df_principal"
   ]
  },
  {
   "cell_type": "code",
   "execution_count": 4,
   "id": "faf0f86c",
   "metadata": {},
   "outputs": [],
   "source": [
    "df_pca_cluster= datapreprocessing(df_cluster)"
   ]
  },
  {
   "cell_type": "code",
   "execution_count": 5,
   "id": "93966de1",
   "metadata": {},
   "outputs": [],
   "source": [
    "# coverting the input csv file into a graph\n",
    "'''  '''\n",
    "def getGraph(df,measure) :\n",
    "    \n",
    "    dist = DistanceMetric.get_metric(measure)\n",
    "    matrix_dist = dist.pairwise(df.to_numpy())\n",
    "    Graph=nx.from_numpy_matrix(matrix_dist)\n",
    "    draw_graph(Graph)\n",
    "    \n",
    "    return matrix_dist, Graph\n",
    "    "
   ]
  },
  {
   "cell_type": "code",
   "execution_count": 6,
   "id": "7ec76105",
   "metadata": {},
   "outputs": [],
   "source": [
    "#Function to draw graph\n",
    "def draw_graph(G):\n",
    "    pos = nx.spring_layout(G)\n",
    "    nx.draw_networkx_nodes(G, pos)\n",
    "    nx.draw_networkx_labels(G, pos)\n",
    "    nx.draw_networkx_edges(G, pos, width=1.0, alpha=0.5)"
   ]
  },
  {
   "cell_type": "code",
   "execution_count": 7,
   "id": "3b9cbef6",
   "metadata": {},
   "outputs": [
    {
     "data": {
      "text/plain": [
       "array([[     0.        ,   7461.94801114, 103000.92328887, ...,\n",
       "        477002.29250205, 125013.41482517, 130000.5780106 ],\n",
       "       [  7461.94801114,      0.        , 101651.22696515, ...,\n",
       "        478677.1225331 , 123478.27495382, 131864.93303654],\n",
       "       [103000.92328887, 101651.22696515,      0.        , ...,\n",
       "        580003.1598873 ,  22116.51270002, 233000.00729418],\n",
       "       ...,\n",
       "       [477002.29250205, 478677.1225331 , 580003.1598873 , ...,\n",
       "             0.        , 602000.10390311, 347005.00681206],\n",
       "       [125013.41482517, 123478.27495382,  22116.51270002, ...,\n",
       "        602000.10390311,      0.        , 255009.63742384],\n",
       "       [130000.5780106 , 131864.93303654, 233000.00729418, ...,\n",
       "        347005.00681206, 255009.63742384,      0.        ]])"
      ]
     },
     "execution_count": 7,
     "metadata": {},
     "output_type": "execute_result"
    },
    {
     "data": {
      "image/png": "[encoded data removed]",
      "text/plain": [
       "<Figure size 432x288 with 1 Axes>"
      ]
     },
     "metadata": {},
     "output_type": "display_data"
    }
   ],
   "source": [
    "matrix_dist, Graph = getGraph(df_cluster,\"euclidean\")\n",
    "matrix_dist"
   ]
  },
  {
   "cell_type": "code",
   "execution_count": 8,
   "id": "1c4d9488",
   "metadata": {},
   "outputs": [],
   "source": [
    "#equation fro adjacency matrix\n",
    "def equation(df, sigma, distance):\n",
    "    dim = df.shape[0]\n",
    "    A = np.zeros([dim, dim])\n",
    "    dist = iter(pdist(df, metric=distance))\n",
    "#     matrix_dist = dist.pairwise(df.to_numpy())\n",
    "    for i in range(dim):\n",
    "        for j in range(i+1, dim):  \n",
    "            d = np.exp(-next(dist) ** 2) / (2. * sigma ** 2)\n",
    "            A[i,j] = d\n",
    "            A[j,i] = d\n",
    "    return A\n"
   ]
  },
  {
   "cell_type": "code",
   "execution_count": 9,
   "id": "b8ed5808",
   "metadata": {},
   "outputs": [
    {
     "data": {
      "text/plain": [
       "array([[0.        , 4.73765499, 4.42668018, ..., 2.22262191, 4.3955364 ,\n",
       "        4.6994128 ],\n",
       "       [4.73765499, 0.        , 4.55821815, ..., 3.54834637, 5.0767855 ,\n",
       "        5.42109133],\n",
       "       [4.42668018, 4.55821815, 0.        , ..., 1.63249413, 5.3711021 ,\n",
       "        5.09157925],\n",
       "       ...,\n",
       "       [2.22262191, 3.54834637, 1.63249413, ..., 0.        , 2.30271701,\n",
       "        2.87608415],\n",
       "       [4.3955364 , 5.0767855 , 5.3711021 , ..., 2.30271701, 0.        ,\n",
       "        5.44086469],\n",
       "       [4.6994128 , 5.42109133, 5.09157925, ..., 2.87608415, 5.44086469,\n",
       "        0.        ]])"
      ]
     },
     "execution_count": 9,
     "metadata": {},
     "output_type": "execute_result"
    }
   ],
   "source": [
    "adjacency_matrix = equation(df_pca_cluster, 0.3, 'euclidean')\n",
    "# adacency_matrix= getAjacency(df_cluster)\n",
    "adjacency_matrix\n"
   ]
  },
  {
   "cell_type": "code",
   "execution_count": 10,
   "id": "d61ff8d7",
   "metadata": {},
   "outputs": [],
   "source": [
    "def getLaplacian(Graph,matrix_dist):\n",
    "    D = Graph.degree()\n",
    "    degrees = [val for (node, val) in Graph.degree()]\n",
    "    D = np.zeros((len(degrees), len(degrees)))\n",
    "    np.fill_diagonal(D, degrees)\n",
    "    print('degree matrix:')\n",
    "    print(D)\n",
    "    L = D - matrix_dist\n",
    "    \n",
    "#Normalized laplacian matrix\n",
    "    D_half = linalg.fractional_matrix_power(D, -0.5)\n",
    "    LN = np.matmul(np.matmul(D_half, L), D_half)\n",
    "    \n",
    " \n",
    "    print('laplacian matrix:')\n",
    "    print(LN)\n",
    "    return D,L,LN\n"
   ]
  },
  {
   "cell_type": "code",
   "execution_count": 11,
   "id": "56a748a5",
   "metadata": {},
   "outputs": [],
   "source": [
    "def getEigen(LN):\n",
    "    e, v = np.linalg.eig(LN)\n",
    "        # eigenvalues\n",
    "    print('eigenvalues:')\n",
    "    print(e)\n",
    "        # eigenvectors\n",
    "    print('eigenvectors:')\n",
    "    print(v)\n",
    "    return e,v\n",
    "    "
   ]
  },
  {
   "cell_type": "code",
   "execution_count": 13,
   "id": "f3e3fcb3",
   "metadata": {},
   "outputs": [
    {
     "name": "stdout",
     "output_type": "stream",
     "text": [
      "degree matrix:\n",
      "[[298.   0.   0. ...   0.   0.   0.]\n",
      " [  0. 298.   0. ...   0.   0.   0.]\n",
      " [  0.   0. 298. ...   0.   0.   0.]\n",
      " ...\n",
      " [  0.   0.   0. ... 298.   0.   0.]\n",
      " [  0.   0.   0. ...   0. 298.   0.]\n",
      " [  0.   0.   0. ...   0.   0. 298.]]\n",
      "laplacian matrix:\n",
      "[[ 1.         -0.01589817 -0.01485463 ... -0.00745846 -0.01475012\n",
      "  -0.01576984]\n",
      " [-0.01589817  1.         -0.01529603 ... -0.0119072  -0.01703619\n",
      "  -0.01819158]\n",
      " [-0.01485463 -0.01529603  1.         ... -0.00547817 -0.01802383\n",
      "  -0.01708584]\n",
      " ...\n",
      " [-0.00745846 -0.0119072  -0.00547817 ...  1.         -0.00772724\n",
      "  -0.00965129]\n",
      " [-0.01475012 -0.01703619 -0.01802383 ... -0.00772724  1.\n",
      "  -0.01825794]\n",
      " [-0.01576984 -0.01819158 -0.01708584 ... -0.00965129 -0.01825794\n",
      "   1.        ]]\n"
     ]
    }
   ],
   "source": [
    "D,L,LN = getLaplacian(Graph,adjacency_matrix)"
   ]
  },
  {
   "cell_type": "code",
   "execution_count": 17,
   "id": "b65a5c48",
   "metadata": {},
   "outputs": [
    {
     "data": {
      "text/plain": [
       "array([[ 1.        , -0.01589817, -0.01485463, ..., -0.00745846,\n",
       "        -0.01475012, -0.01576984],\n",
       "       [-0.01589817,  1.        , -0.01529603, ..., -0.0119072 ,\n",
       "        -0.01703619, -0.01819158],\n",
       "       [-0.01485463, -0.01529603,  1.        , ..., -0.00547817,\n",
       "        -0.01802383, -0.01708584],\n",
       "       ...,\n",
       "       [-0.00745846, -0.0119072 , -0.00547817, ...,  1.        ,\n",
       "        -0.00772724, -0.00965129],\n",
       "       [-0.01475012, -0.01703619, -0.01802383, ..., -0.00772724,\n",
       "         1.        , -0.01825794],\n",
       "       [-0.01576984, -0.01819158, -0.01708584, ..., -0.00965129,\n",
       "        -0.01825794,  1.        ]])"
      ]
     },
     "execution_count": 17,
     "metadata": {},
     "output_type": "execute_result"
    }
   ],
   "source": [
    "LN"
   ]
  },
  {
   "cell_type": "code",
   "execution_count": 14,
   "id": "11c5ff52",
   "metadata": {},
   "outputs": [
    {
     "name": "stdout",
     "output_type": "stream",
     "text": [
      "eigenvalues:\n",
      "[-2.48770062+0.00000000e+00j  0.16279317+0.00000000e+00j\n",
      "  0.2971171 +0.00000000e+00j  0.8538575 +0.00000000e+00j\n",
      "  0.88358915+0.00000000e+00j  0.90940625+0.00000000e+00j\n",
      "  0.98807776+0.00000000e+00j  1.00137306+0.00000000e+00j\n",
      "  1.00341054+0.00000000e+00j  1.00972088+0.00000000e+00j\n",
      "  1.01519756+0.00000000e+00j  1.0164639 +0.00000000e+00j\n",
      "  1.01734899+0.00000000e+00j  1.01755368+0.00000000e+00j\n",
      "  1.01808728+0.00000000e+00j  1.01837285+0.00000000e+00j\n",
      "  1.0184202 +0.00000000e+00j  1.01853666+0.00000000e+00j\n",
      "  1.01854839+0.00000000e+00j  1.01857652+0.00000000e+00j\n",
      "  1.01861329+0.00000000e+00j  1.01862283+0.00000000e+00j\n",
      "  1.01862656+0.00000000e+00j  1.01863427+0.00000000e+00j\n",
      "  1.01863738+0.00000000e+00j  1.01863806+0.00000000e+00j\n",
      "  1.01863994+0.00000000e+00j  1.01864097+0.00000000e+00j\n",
      "  1.01864144+0.00000000e+00j  1.01864192+0.00000000e+00j\n",
      "  1.01864226+0.00000000e+00j  1.01864243+0.00000000e+00j\n",
      "  1.01864259+0.00000000e+00j  1.01864261+0.00000000e+00j\n",
      "  1.01864269+0.00000000e+00j  1.01864273+0.00000000e+00j\n",
      "  1.01864274+0.00000000e+00j  1.01864276+0.00000000e+00j\n",
      "  1.01864278+0.00000000e+00j  1.01864278+0.00000000e+00j\n",
      "  1.01864279+0.00000000e+00j  1.0186428 +0.00000000e+00j\n",
      "  1.0186428 +0.00000000e+00j  1.0186428 +0.00000000e+00j\n",
      "  1.0186428 +0.00000000e+00j  1.0186428 +0.00000000e+00j\n",
      "  1.0186428 +0.00000000e+00j  1.0186428 +0.00000000e+00j\n",
      "  1.0186428 +0.00000000e+00j  1.0186428 +0.00000000e+00j\n",
      "  1.0186428 +0.00000000e+00j  1.0186428 +0.00000000e+00j\n",
      "  1.0186428 +0.00000000e+00j  1.0186428 +0.00000000e+00j\n",
      "  1.0186428 +0.00000000e+00j  1.0186428 +0.00000000e+00j\n",
      "  1.0186428 +0.00000000e+00j  1.0186428 +0.00000000e+00j\n",
      "  1.0186428 +0.00000000e+00j  1.0186428 +0.00000000e+00j\n",
      "  1.0186428 +0.00000000e+00j  1.0186428 +0.00000000e+00j\n",
      "  1.0186428 +0.00000000e+00j  1.0186428 +0.00000000e+00j\n",
      "  1.0186428 +0.00000000e+00j  1.0186428 +0.00000000e+00j\n",
      "  1.0186428 +0.00000000e+00j  1.0186428 +0.00000000e+00j\n",
      "  1.0186428 +0.00000000e+00j  1.0186428 +0.00000000e+00j\n",
      "  1.0186428 +0.00000000e+00j  1.0186428 +0.00000000e+00j\n",
      "  1.0186428 +0.00000000e+00j  1.0186428 +0.00000000e+00j\n",
      "  1.0186428 +0.00000000e+00j  1.0186428 +0.00000000e+00j\n",
      "  1.0186428 +0.00000000e+00j  1.0186428 +0.00000000e+00j\n",
      "  1.0186428 +0.00000000e+00j  1.0186428 +0.00000000e+00j\n",
      "  1.0186428 +0.00000000e+00j  1.0186428 +0.00000000e+00j\n",
      "  1.0186428 +0.00000000e+00j  1.0186428 +0.00000000e+00j\n",
      "  1.0186428 +0.00000000e+00j  1.0186428 +0.00000000e+00j\n",
      "  1.0186428 +0.00000000e+00j  1.0186428 +0.00000000e+00j\n",
      "  1.0186428 +0.00000000e+00j  1.0186428 +0.00000000e+00j\n",
      "  1.0186428 +0.00000000e+00j  1.0186428 +0.00000000e+00j\n",
      "  1.0186428 +0.00000000e+00j  1.0186428 +0.00000000e+00j\n",
      "  1.0186428 +0.00000000e+00j  1.0186428 +0.00000000e+00j\n",
      "  1.0186428 +0.00000000e+00j  1.0186428 +0.00000000e+00j\n",
      "  1.0186428 +0.00000000e+00j  1.0186428 +0.00000000e+00j\n",
      "  1.0186428 +0.00000000e+00j  1.0186428 +0.00000000e+00j\n",
      "  1.0186428 +0.00000000e+00j  1.0186428 +0.00000000e+00j\n",
      "  1.0186428 +0.00000000e+00j  1.0186428 +0.00000000e+00j\n",
      "  1.0186428 +0.00000000e+00j  1.0186428 +0.00000000e+00j\n",
      "  1.0186428 +0.00000000e+00j  1.0186428 +0.00000000e+00j\n",
      "  1.0186428 +0.00000000e+00j  1.0186428 +0.00000000e+00j\n",
      "  1.0186428 +0.00000000e+00j  1.0186428 +0.00000000e+00j\n",
      "  1.0186428 +0.00000000e+00j  1.0186428 +0.00000000e+00j\n",
      "  1.0186428 +0.00000000e+00j  1.0186428 +0.00000000e+00j\n",
      "  1.0186428 +0.00000000e+00j  1.0186428 +0.00000000e+00j\n",
      "  1.0186428 +0.00000000e+00j  1.0186428 +0.00000000e+00j\n",
      "  1.0186428 +0.00000000e+00j  1.0186428 +0.00000000e+00j\n",
      "  1.0186428 +0.00000000e+00j  1.0186428 +0.00000000e+00j\n",
      "  1.0186428 +0.00000000e+00j  1.0186428 +0.00000000e+00j\n",
      "  1.0186428 +0.00000000e+00j  1.0186428 +0.00000000e+00j\n",
      "  1.0186428 +0.00000000e+00j  1.0186428 +0.00000000e+00j\n",
      "  1.0186428 +0.00000000e+00j  1.0186428 +0.00000000e+00j\n",
      "  1.0186428 +0.00000000e+00j  1.0186428 +0.00000000e+00j\n",
      "  1.0186428 +0.00000000e+00j  1.0186428 +0.00000000e+00j\n",
      "  1.0186428 +0.00000000e+00j  1.0186428 +0.00000000e+00j\n",
      "  1.0186428 +0.00000000e+00j  1.0186428 +0.00000000e+00j\n",
      "  1.0186428 +0.00000000e+00j  1.0186428 +0.00000000e+00j\n",
      "  1.0186428 +0.00000000e+00j  1.0186428 +0.00000000e+00j\n",
      "  1.0186428 +0.00000000e+00j  1.0186428 +0.00000000e+00j\n",
      "  1.0186428 +0.00000000e+00j  1.0186428 +0.00000000e+00j\n",
      "  1.0186428 +0.00000000e+00j  1.0186428 +0.00000000e+00j\n",
      "  1.0186428 +0.00000000e+00j  1.0186428 +0.00000000e+00j\n",
      "  1.0186428 +2.93737402e-16j  1.0186428 -2.93737402e-16j\n",
      "  1.0186428 +0.00000000e+00j  1.0186428 +0.00000000e+00j\n",
      "  1.0186428 +0.00000000e+00j  1.0186428 +0.00000000e+00j\n",
      "  1.0186428 +0.00000000e+00j  1.0186428 +0.00000000e+00j\n",
      "  1.0186428 +0.00000000e+00j  1.0186428 +0.00000000e+00j\n",
      "  1.0186428 +0.00000000e+00j  1.0186428 +0.00000000e+00j\n",
      "  1.0186428 +0.00000000e+00j  1.0186428 +2.63312510e-16j\n",
      "  1.0186428 -2.63312510e-16j  1.0186428 +0.00000000e+00j\n",
      "  1.0186428 +1.57009246e-16j  1.0186428 -1.57009246e-16j\n",
      "  1.0186428 +0.00000000e+00j  1.0186428 +0.00000000e+00j\n",
      "  1.0186428 +0.00000000e+00j  1.0186428 +0.00000000e+00j\n",
      "  1.0186428 +0.00000000e+00j  1.0186428 +0.00000000e+00j\n",
      "  1.0186428 +0.00000000e+00j  1.0186428 +0.00000000e+00j\n",
      "  1.0186428 +0.00000000e+00j  1.0186428 +0.00000000e+00j\n",
      "  1.0186428 +0.00000000e+00j  1.0186428 +0.00000000e+00j\n",
      "  1.0186428 +0.00000000e+00j  1.0186428 +0.00000000e+00j\n",
      "  1.0186428 +0.00000000e+00j  1.0186428 +0.00000000e+00j\n",
      "  1.0186428 +0.00000000e+00j  1.0186428 +0.00000000e+00j\n",
      "  1.0186428 +0.00000000e+00j  1.0186428 +0.00000000e+00j\n",
      "  1.0186428 +0.00000000e+00j  1.0186428 +0.00000000e+00j\n",
      "  1.0186428 +0.00000000e+00j  1.0186428 +0.00000000e+00j\n",
      "  1.0186428 +0.00000000e+00j  1.0186428 +0.00000000e+00j\n",
      "  1.0186428 +0.00000000e+00j  1.0186428 +0.00000000e+00j\n",
      "  1.0186428 +0.00000000e+00j  1.0186428 +0.00000000e+00j\n",
      "  1.0186428 +0.00000000e+00j  1.0186428 +0.00000000e+00j\n",
      "  1.0186428 +0.00000000e+00j  1.0186428 +0.00000000e+00j\n",
      "  1.0186428 +2.22044605e-16j  1.0186428 -2.22044605e-16j\n",
      "  1.0186428 +0.00000000e+00j  1.0186428 +0.00000000e+00j\n",
      "  1.0186428 +0.00000000e+00j  1.0186428 +0.00000000e+00j\n",
      "  1.0186428 +0.00000000e+00j  1.0186428 +0.00000000e+00j\n",
      "  1.0186428 +0.00000000e+00j  1.0186428 +0.00000000e+00j\n",
      "  1.0186428 +0.00000000e+00j  1.0186428 +0.00000000e+00j\n",
      "  1.0186428 +0.00000000e+00j  1.0186428 +0.00000000e+00j\n",
      "  1.0186428 +0.00000000e+00j  1.0186428 +0.00000000e+00j\n",
      "  1.0186428 +0.00000000e+00j  1.0186428 +0.00000000e+00j\n",
      "  1.0186428 +0.00000000e+00j  1.0186428 +0.00000000e+00j\n",
      "  1.0186428 +0.00000000e+00j  1.0186428 +0.00000000e+00j\n",
      "  1.0186428 +0.00000000e+00j  1.0186428 +0.00000000e+00j\n",
      "  1.0186428 +0.00000000e+00j  1.0186428 +0.00000000e+00j\n",
      "  1.0186428 +0.00000000e+00j  1.0186428 +0.00000000e+00j\n",
      "  1.0186428 +0.00000000e+00j  1.0186428 +0.00000000e+00j\n",
      "  1.0186428 +0.00000000e+00j  1.0186428 +0.00000000e+00j\n",
      "  1.0186428 +0.00000000e+00j  1.0186428 +0.00000000e+00j\n",
      "  1.0186428 +0.00000000e+00j  1.0186428 +0.00000000e+00j\n",
      "  1.0186428 +0.00000000e+00j  1.0186428 +0.00000000e+00j\n",
      "  1.0186428 +0.00000000e+00j  1.0186428 +0.00000000e+00j\n",
      "  1.0186428 +0.00000000e+00j  1.0186428 +0.00000000e+00j\n",
      "  1.0186428 +0.00000000e+00j  1.0186428 +0.00000000e+00j\n",
      "  1.0186428 +0.00000000e+00j  1.0186428 +0.00000000e+00j\n",
      "  1.0186428 +0.00000000e+00j  1.0186428 +0.00000000e+00j\n",
      "  1.0186428 +0.00000000e+00j  1.0186428 +0.00000000e+00j\n",
      "  1.0186428 +0.00000000e+00j  1.0186428 +0.00000000e+00j\n",
      "  1.0186428 +0.00000000e+00j  1.0186428 +0.00000000e+00j\n",
      "  1.0186428 +0.00000000e+00j  1.0186428 +0.00000000e+00j\n",
      "  1.0186428 +0.00000000e+00j  1.0186428 +0.00000000e+00j\n",
      "  1.0186428 +0.00000000e+00j  1.0186428 +0.00000000e+00j\n",
      "  1.0186428 +0.00000000e+00j  1.0186428 +0.00000000e+00j\n",
      "  1.0186428 +0.00000000e+00j  1.0186428 +0.00000000e+00j\n",
      "  1.0186428 +0.00000000e+00j  1.0186428 +0.00000000e+00j\n",
      "  1.0186428 +0.00000000e+00j  1.0186428 +0.00000000e+00j\n",
      "  1.0186428 +0.00000000e+00j  1.0186428 +0.00000000e+00j\n",
      "  1.0186428 +0.00000000e+00j  1.0186428 +0.00000000e+00j\n",
      "  1.0186428 +0.00000000e+00j  1.0186428 +0.00000000e+00j\n",
      "  1.0186428 +0.00000000e+00j  1.0186428 +0.00000000e+00j\n",
      "  1.0186428 +0.00000000e+00j  1.0186428 +0.00000000e+00j\n",
      "  1.0186428 +7.50487058e-17j  1.0186428 -7.50487058e-17j\n",
      "  1.0186428 +0.00000000e+00j  1.0186428 +0.00000000e+00j\n",
      "  1.0186428 +0.00000000e+00j  1.0186428 +0.00000000e+00j\n",
      "  1.0186428 +0.00000000e+00j  1.0186428 +0.00000000e+00j\n",
      "  1.0186428 +0.00000000e+00j  1.0186428 +0.00000000e+00j\n",
      "  1.0186428 +0.00000000e+00j  1.0186428 +0.00000000e+00j\n",
      "  1.0186428 +0.00000000e+00j  1.0186428 +0.00000000e+00j\n",
      "  1.0186428 +0.00000000e+00j]\n",
      "eigenvectors:\n",
      "[[-0.0626871 +0.j -0.06503669+0.j -0.03018697+0.j ...  0.03945934+0.j\n",
      "  -0.03578448+0.j -0.07230858+0.j]\n",
      " [-0.06744185+0.j -0.03553037+0.j  0.03795281+0.j ... -0.01092275+0.j\n",
      "  -0.04687334+0.j -0.02696189+0.j]\n",
      " [-0.05069665+0.j -0.08747248+0.j  0.03685735+0.j ...  0.00121444+0.j\n",
      "  -0.04890323+0.j -0.08215557+0.j]\n",
      " ...\n",
      " [-0.05628538+0.j  0.07727991+0.j  0.0472896 +0.j ... -0.0354715 +0.j\n",
      "  -0.04663442+0.j -0.03311688+0.j]\n",
      " [-0.05634551+0.j -0.07195462+0.j  0.05241493+0.j ... -0.06350489+0.j\n",
      "   0.05586883+0.j  0.07071884+0.j]\n",
      " [-0.06259065+0.j -0.05840045+0.j  0.04549861+0.j ...  0.04854521+0.j\n",
      "  -0.0821514 +0.j  0.05769462+0.j]]\n"
     ]
    }
   ],
   "source": [
    "e,v = getEigen(LN)"
   ]
  },
  {
   "cell_type": "code",
   "execution_count": 15,
   "id": "dd5dcd33",
   "metadata": {},
   "outputs": [
    {
     "name": "stderr",
     "output_type": "stream",
     "text": [
      "C:\\Users\\sitas\\AppData\\Local\\Programs\\Python\\Python310\\lib\\site-packages\\matplotlib\\cbook\\__init__.py:1298: ComplexWarning: Casting complex values to real discards the imaginary part\n",
      "  return np.asarray(x, float)\n"
     ]
    },
    {
     "data": {
      "image/png": "[encoded data removed]",
      "text/plain": [
       "<Figure size 432x288 with 2 Axes>"
      ]
     },
     "metadata": {
      "needs_background": "light"
     },
     "output_type": "display_data"
    }
   ],
   "source": [
    "fig = plt.figure()\n",
    "ax1 = plt.subplot(121)\n",
    "plt.plot(e)\n",
    "ax1.title.set_text('eigenvalues')\n",
    "i = np.where(e < 10e-6)[0]\n",
    "ax2 = plt.subplot(122)\n",
    "plt.plot(v[:, i[0]])\n",
    "fig.tight_layout()\n",
    "plt.show()"
   ]
  },
  {
   "cell_type": "code",
   "execution_count": null,
   "id": "fe15c612",
   "metadata": {},
   "outputs": [],
   "source": [
    "#find optimal number of clusters\n",
    "\n",
    "def silhouette(df):\n",
    "    range_n_clusters = [2,3,4,5,6,7,8,9,10,11,12,13,14]\n",
    "    silhouette_avg = []\n",
    "\n",
    "    for num_clusters in range_n_clusters:\n",
    "        kmeans = KMeans(n_clusters=num_clusters)\n",
    "        kmeans.fit(df)\n",
    "        cluster_labels = kmeans.labels_  \n",
    "        silhouette_avg.append(silhouette_score(df, cluster_labels))\n",
    "        \n",
    "    plt.plot(range_n_clusters,silhouette_avg,'-bx')\n",
    "    plt.xlabel('Values of K') \n",
    "    plt.ylabel('Silhouette score') \n",
    "    plt.title('Silhouette analysis For Optimal k')\n",
    "    plt.show()\n",
    "    \n"
   ]
  },
  {
   "cell_type": "code",
   "execution_count": null,
   "id": "8332867a",
   "metadata": {},
   "outputs": [],
   "source": [
    "silhouette(df_cluster)"
   ]
  },
  {
   "cell_type": "code",
   "execution_count": null,
   "id": "f142c405",
   "metadata": {},
   "outputs": [],
   "source": [
    "silhouette(df_pca_cluster)"
   ]
  },
  {
   "cell_type": "code",
   "execution_count": null,
   "id": "4d74fda2",
   "metadata": {},
   "outputs": [],
   "source": [
    "def elbowmethod(df):\n",
    "    Sum_of_squared_distances = []\n",
    "    K = range(1,10)\n",
    "    for num_clusters in K :\n",
    "        kmeans = KMeans(n_clusters=num_clusters)\n",
    "        kmeans.fit(df)\n",
    "        Sum_of_squared_distances.append(kmeans.inertia_)\n",
    "    plt.plot(K,Sum_of_squared_distances,'-bx')\n",
    "    plt.xlabel('Values of K') \n",
    "    plt.ylabel('Sum of squared distances/') \n",
    "    plt.title('Elbow Method For Optimal k')\n",
    "    plt.show()\n",
    "    \n"
   ]
  },
  {
   "cell_type": "code",
   "execution_count": null,
   "id": "2e10d859",
   "metadata": {},
   "outputs": [],
   "source": [
    "elbowmethod(df_cluster)"
   ]
  },
  {
   "cell_type": "code",
   "execution_count": null,
   "id": "e4c7a118",
   "metadata": {},
   "outputs": [],
   "source": [
    "elbowmethod(df_pca_cluster)"
   ]
  },
  {
   "cell_type": "code",
   "execution_count": null,
   "id": "809df3aa",
   "metadata": {},
   "outputs": [],
   "source": [
    "U = np.array(v[:, i[0]])\n",
    "km = KMeans(init='k-means++', n_clusters=3)\n",
    "df['clusters'] = km.fit_predict(U)\n",
    "df"
   ]
  }
 ],
 "metadata": {
  "kernelspec": {
   "display_name": "Python 3 (ipykernel)",
   "language": "python",
   "name": "python3"
  },
  "language_info": {
   "codemirror_mode": {
    "name": "ipython",
    "version": 3
   },
   "file_extension": ".py",
   "mimetype": "text/x-python",
   "name": "python",
   "nbconvert_exporter": "python",
   "pygments_lexer": "ipython3",
   "version": "3.10.6"
  }
 },
 "nbformat": 4,
 "nbformat_minor": 5
}
