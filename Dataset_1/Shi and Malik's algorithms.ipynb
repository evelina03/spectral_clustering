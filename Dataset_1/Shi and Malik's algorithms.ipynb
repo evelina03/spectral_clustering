{
 "cells": [
  {
   "cell_type": "code",
   "execution_count": 1,
   "id": "dbd841d0",
   "metadata": {},
   "outputs": [],
   "source": [
    "import numpy as np\n",
    "import pandas as pd\n",
    "import math\n",
    "import itertools\n",
    "from sklearn.metrics import DistanceMetric\n",
    "import networkx as nx\n",
    "from numpy import inf\n",
    "from scipy import linalg\n",
    "from matplotlib import pyplot as plt\n",
    "from sklearn.cluster import KMeans\n",
    "import warnings\n",
    "warnings.filterwarnings(\"ignore\", category=np.VisibleDeprecationWarning) \n",
    "from scipy.spatial.distance import pdist\n",
    "\n"
   ]
  },
  {
   "cell_type": "code",
   "execution_count": 2,
   "id": "7e3a2e06",
   "metadata": {},
   "outputs": [
    {
     "data": {
      "text/html": [
       "<div>\n",
       "<style scoped>\n",
       "    .dataframe tbody tr th:only-of-type {\n",
       "        vertical-align: middle;\n",
       "    }\n",
       "\n",
       "    .dataframe tbody tr th {\n",
       "        vertical-align: top;\n",
       "    }\n",
       "\n",
       "    .dataframe thead th {\n",
       "        text-align: right;\n",
       "    }\n",
       "</style>\n",
       "<table border=\"1\" class=\"dataframe\">\n",
       "  <thead>\n",
       "    <tr style=\"text-align: right;\">\n",
       "      <th></th>\n",
       "      <th>age</th>\n",
       "      <th>anaemia</th>\n",
       "      <th>creatinine_phosphokinase</th>\n",
       "      <th>diabetes</th>\n",
       "      <th>ejection_fraction</th>\n",
       "      <th>high_blood_pressure</th>\n",
       "      <th>platelets</th>\n",
       "      <th>serum_creatinine</th>\n",
       "      <th>serum_sodium</th>\n",
       "      <th>sex</th>\n",
       "    </tr>\n",
       "  </thead>\n",
       "  <tbody>\n",
       "    <tr>\n",
       "      <th>0</th>\n",
       "      <td>75.0</td>\n",
       "      <td>0</td>\n",
       "      <td>582</td>\n",
       "      <td>0</td>\n",
       "      <td>20</td>\n",
       "      <td>1</td>\n",
       "      <td>265000.00</td>\n",
       "      <td>1.9</td>\n",
       "      <td>130</td>\n",
       "      <td>1</td>\n",
       "    </tr>\n",
       "    <tr>\n",
       "      <th>1</th>\n",
       "      <td>55.0</td>\n",
       "      <td>0</td>\n",
       "      <td>7861</td>\n",
       "      <td>0</td>\n",
       "      <td>38</td>\n",
       "      <td>0</td>\n",
       "      <td>263358.03</td>\n",
       "      <td>1.1</td>\n",
       "      <td>136</td>\n",
       "      <td>1</td>\n",
       "    </tr>\n",
       "    <tr>\n",
       "      <th>2</th>\n",
       "      <td>65.0</td>\n",
       "      <td>0</td>\n",
       "      <td>146</td>\n",
       "      <td>0</td>\n",
       "      <td>20</td>\n",
       "      <td>0</td>\n",
       "      <td>162000.00</td>\n",
       "      <td>1.3</td>\n",
       "      <td>129</td>\n",
       "      <td>1</td>\n",
       "    </tr>\n",
       "    <tr>\n",
       "      <th>3</th>\n",
       "      <td>50.0</td>\n",
       "      <td>1</td>\n",
       "      <td>111</td>\n",
       "      <td>0</td>\n",
       "      <td>20</td>\n",
       "      <td>0</td>\n",
       "      <td>210000.00</td>\n",
       "      <td>1.9</td>\n",
       "      <td>137</td>\n",
       "      <td>1</td>\n",
       "    </tr>\n",
       "    <tr>\n",
       "      <th>4</th>\n",
       "      <td>65.0</td>\n",
       "      <td>1</td>\n",
       "      <td>160</td>\n",
       "      <td>1</td>\n",
       "      <td>20</td>\n",
       "      <td>0</td>\n",
       "      <td>327000.00</td>\n",
       "      <td>2.7</td>\n",
       "      <td>116</td>\n",
       "      <td>0</td>\n",
       "    </tr>\n",
       "  </tbody>\n",
       "</table>\n",
       "</div>"
      ],
      "text/plain": [
       "    age  anaemia  creatinine_phosphokinase  diabetes  ejection_fraction  \\\n",
       "0  75.0        0                       582         0                 20   \n",
       "1  55.0        0                      7861         0                 38   \n",
       "2  65.0        0                       146         0                 20   \n",
       "3  50.0        1                       111         0                 20   \n",
       "4  65.0        1                       160         1                 20   \n",
       "\n",
       "   high_blood_pressure  platelets  serum_creatinine  serum_sodium  sex  \n",
       "0                    1  265000.00               1.9           130    1  \n",
       "1                    0  263358.03               1.1           136    1  \n",
       "2                    0  162000.00               1.3           129    1  \n",
       "3                    0  210000.00               1.9           137    1  \n",
       "4                    0  327000.00               2.7           116    0  "
      ]
     },
     "execution_count": 2,
     "metadata": {},
     "output_type": "execute_result"
    }
   ],
   "source": [
    "  # Uploading the files\n",
    "df = pd.read_csv(\"HeartFailure.csv\")\n",
    "df_cluster = df.iloc[:,1:11]\n",
    "df_cluster.head()"
   ]
  },
  {
   "cell_type": "code",
   "execution_count": 3,
   "id": "93966de1",
   "metadata": {},
   "outputs": [],
   "source": [
    "# coverting the input csv file into a graph\n",
    "'''  '''\n",
    "def getGraph(df,measure) :\n",
    "    \n",
    "    dist = DistanceMetric.get_metric(measure)\n",
    "    matrix_dist = dist.pairwise(df.to_numpy())\n",
    "    Graph=nx.from_numpy_matrix(matrix_dist)\n",
    "    #draw_graph(Graph)\n",
    "    \n",
    "    return matrix_dist, Graph\n",
    "    "
   ]
  },
  {
   "cell_type": "code",
   "execution_count": 4,
   "id": "7ec76105",
   "metadata": {},
   "outputs": [],
   "source": [
    "#Function to draw graph\n",
    "def draw_graph(G):\n",
    "    pos = nx.spring_layout(G)\n",
    "    nx.draw_networkx_nodes(G, pos)\n",
    "    nx.draw_networkx_labels(G, pos)\n",
    "    nx.draw_networkx_edges(G, pos, width=1.0, alpha=0.5)"
   ]
  },
  {
   "cell_type": "code",
   "execution_count": 5,
   "id": "3b9cbef6",
   "metadata": {},
   "outputs": [
    {
     "data": {
      "text/plain": [
       "array([[     0.        ,   7461.94801114, 103000.92328887, ...,\n",
       "        477002.29250205, 125013.41482517, 130000.5780106 ],\n",
       "       [  7461.94801114,      0.        , 101651.22696515, ...,\n",
       "        478677.1225331 , 123478.27495382, 131864.93303654],\n",
       "       [103000.92328887, 101651.22696515,      0.        , ...,\n",
       "        580003.1598873 ,  22116.51270002, 233000.00729418],\n",
       "       ...,\n",
       "       [477002.29250205, 478677.1225331 , 580003.1598873 , ...,\n",
       "             0.        , 602000.10390311, 347005.00681206],\n",
       "       [125013.41482517, 123478.27495382,  22116.51270002, ...,\n",
       "        602000.10390311,      0.        , 255009.63742384],\n",
       "       [130000.5780106 , 131864.93303654, 233000.00729418, ...,\n",
       "        347005.00681206, 255009.63742384,      0.        ]])"
      ]
     },
     "execution_count": 5,
     "metadata": {},
     "output_type": "execute_result"
    }
   ],
   "source": [
    "matrix_dist, Graph = getGraph(df_cluster,\"euclidean\")\n",
    "matrix_dist"
   ]
  },
  {
   "cell_type": "code",
   "execution_count": 6,
   "id": "1c4d9488",
   "metadata": {},
   "outputs": [],
   "source": [
    "#equation fro adjacency matrix\n",
    "def equation(df, sigma, distance):\n",
    "    dim = df.shape[0]\n",
    "    A = np.zeros([dim, dim])\n",
    "    dist = iter(pdist(df, metric=distance))\n",
    "#     matrix_dist = dist.pairwise(df.to_numpy())\n",
    "    for i in range(dim):\n",
    "        for j in range(i+1, dim):  \n",
    "            d = np.exp(-next(dist) ** 2) / (2. * sigma ** 2)\n",
    "            A[i,j] = d\n",
    "            A[j,i] = d\n",
    "    return A\n"
   ]
  },
  {
   "cell_type": "code",
   "execution_count": 7,
   "id": "b8ed5808",
   "metadata": {},
   "outputs": [
    {
     "data": {
      "text/plain": [
       "array([[0., 0., 0., ..., 0., 0., 0.],\n",
       "       [0., 0., 0., ..., 0., 0., 0.],\n",
       "       [0., 0., 0., ..., 0., 0., 0.],\n",
       "       ...,\n",
       "       [0., 0., 0., ..., 0., 0., 0.],\n",
       "       [0., 0., 0., ..., 0., 0., 0.],\n",
       "       [0., 0., 0., ..., 0., 0., 0.]])"
      ]
     },
     "execution_count": 7,
     "metadata": {},
     "output_type": "execute_result"
    }
   ],
   "source": [
    "adjacency_matrix = equation(df_cluster, 0.3, 'euclidean')\n",
    "# adacency_matrix= getAjacency(df_cluster)\n",
    "adjacency_matrix\n"
   ]
  },
  {
   "cell_type": "code",
   "execution_count": 8,
   "id": "d61ff8d7",
   "metadata": {},
   "outputs": [],
   "source": [
    "def getLaplacian(Graph,matrix_dist):\n",
    "    D = Graph.degree()\n",
    "    degrees = [val for (node, val) in Graph.degree()]\n",
    "    D = np.zeros((len(degrees), len(degrees)))\n",
    "    np.fill_diagonal(D, degrees)\n",
    "#     print('degree matrix:')\n",
    "    print(D)\n",
    "    L = D - matrix_dist\n",
    "    \n",
    "#Normalized laplacian matrix\n",
    "    D_half = linalg.fractional_matrix_power(D, -0.5)\n",
    "    LN = np.matmul(np.matmul(D_half, L), D_half)\n",
    "    \n",
    "#  print('laplacian matrix:')\n",
    "    print(LN)\n",
    "    return D,L,LN\n"
   ]
  },
  {
   "cell_type": "code",
   "execution_count": null,
   "id": "56a748a5",
   "metadata": {},
   "outputs": [],
   "source": [
    "def getEigen(LN):\n",
    "    e, v = np.linalg.eig(LN)\n",
    "        # eigenvalues\n",
    "    print('eigenvalues:')\n",
    "    print(e)\n",
    "        # eigenvectors\n",
    "    print('eigenvectors:')\n",
    "    print(v)\n",
    "    return e,v\n",
    "    "
   ]
  },
  {
   "cell_type": "code",
   "execution_count": null,
   "id": "f3e3fcb3",
   "metadata": {},
   "outputs": [],
   "source": [
    "D,L,LN = getLaplacian(Graph,matrix_dist)"
   ]
  },
  {
   "cell_type": "code",
   "execution_count": null,
   "id": "11c5ff52",
   "metadata": {},
   "outputs": [],
   "source": [
    "e,v = getEigen(LN)"
   ]
  },
  {
   "cell_type": "code",
   "execution_count": null,
   "id": "dd5dcd33",
   "metadata": {},
   "outputs": [],
   "source": [
    "fig = plt.figure()\n",
    "ax1 = plt.subplot(121)\n",
    "plt.plot(e)\n",
    "ax1.title.set_text('eigenvalues')\n",
    "i = np.where(e < 10e-6)[0]\n",
    "ax2 = plt.subplot(122)\n",
    "plt.plot(v[:, i[0]])\n",
    "fig.tight_layout()\n",
    "plt.show()"
   ]
  },
  {
   "cell_type": "code",
   "execution_count": null,
   "id": "fe15c612",
   "metadata": {},
   "outputs": [],
   "source": [
    "U = np.array(v[:, i[0]])\n",
    "km = KMeans(init='k-means++', n_clusters=3)\n",
    "df['clusters'] = km.fit_predict(U)\n",
    "df"
   ]
  },
  {
   "cell_type": "code",
   "execution_count": null,
   "id": "8332867a",
   "metadata": {},
   "outputs": [],
   "source": []
  }
 ],
 "metadata": {
  "kernelspec": {
   "display_name": "Python 3 (ipykernel)",
   "language": "python",
   "name": "python3"
  },
  "language_info": {
   "codemirror_mode": {
    "name": "ipython",
    "version": 3
   },
   "file_extension": ".py",
   "mimetype": "text/x-python",
   "name": "python",
   "nbconvert_exporter": "python",
   "pygments_lexer": "ipython3",
   "version": "3.10.6"
  }
 },
 "nbformat": 4,
 "nbformat_minor": 5
}
