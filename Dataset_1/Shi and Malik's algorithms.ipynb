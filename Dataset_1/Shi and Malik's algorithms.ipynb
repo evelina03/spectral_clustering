{
 "cells": [
  {
   "cell_type": "code",
   "execution_count": 1,
   "id": "dbd841d0",
   "metadata": {},
   "outputs": [],
   "source": [
    "import numpy as np\n",
    "import pandas as pd\n",
    "import math\n",
    "import itertools\n",
    "from sklearn.metrics import DistanceMetric\n",
    "import networkx as nx\n",
    "from numpy import inf\n",
    "from scipy import linalg\n",
    "from matplotlib import pyplot as plt\n",
    "from sklearn.cluster import KMeans\n",
    "import warnings\n",
    "warnings.filterwarnings(\"ignore\", category=np.VisibleDeprecationWarning) \n",
    "\n"
   ]
  },
  {
   "cell_type": "code",
   "execution_count": 2,
   "id": "7e3a2e06",
   "metadata": {},
   "outputs": [
    {
     "data": {
      "text/html": [
       "<div>\n",
       "<style scoped>\n",
       "    .dataframe tbody tr th:only-of-type {\n",
       "        vertical-align: middle;\n",
       "    }\n",
       "\n",
       "    .dataframe tbody tr th {\n",
       "        vertical-align: top;\n",
       "    }\n",
       "\n",
       "    .dataframe thead th {\n",
       "        text-align: right;\n",
       "    }\n",
       "</style>\n",
       "<table border=\"1\" class=\"dataframe\">\n",
       "  <thead>\n",
       "    <tr style=\"text-align: right;\">\n",
       "      <th></th>\n",
       "      <th>age</th>\n",
       "      <th>anaemia</th>\n",
       "      <th>creatinine_phosphokinase</th>\n",
       "      <th>diabetes</th>\n",
       "      <th>ejection_fraction</th>\n",
       "      <th>high_blood_pressure</th>\n",
       "      <th>platelets</th>\n",
       "      <th>serum_creatinine</th>\n",
       "      <th>serum_sodium</th>\n",
       "      <th>sex</th>\n",
       "      <th>smoking</th>\n",
       "      <th>time</th>\n",
       "    </tr>\n",
       "  </thead>\n",
       "  <tbody>\n",
       "    <tr>\n",
       "      <th>0</th>\n",
       "      <td>75.0</td>\n",
       "      <td>0</td>\n",
       "      <td>582</td>\n",
       "      <td>0</td>\n",
       "      <td>20</td>\n",
       "      <td>1</td>\n",
       "      <td>265000.00</td>\n",
       "      <td>1.9</td>\n",
       "      <td>130</td>\n",
       "      <td>1</td>\n",
       "      <td>0</td>\n",
       "      <td>4</td>\n",
       "    </tr>\n",
       "    <tr>\n",
       "      <th>1</th>\n",
       "      <td>55.0</td>\n",
       "      <td>0</td>\n",
       "      <td>7861</td>\n",
       "      <td>0</td>\n",
       "      <td>38</td>\n",
       "      <td>0</td>\n",
       "      <td>263358.03</td>\n",
       "      <td>1.1</td>\n",
       "      <td>136</td>\n",
       "      <td>1</td>\n",
       "      <td>0</td>\n",
       "      <td>6</td>\n",
       "    </tr>\n",
       "    <tr>\n",
       "      <th>2</th>\n",
       "      <td>65.0</td>\n",
       "      <td>0</td>\n",
       "      <td>146</td>\n",
       "      <td>0</td>\n",
       "      <td>20</td>\n",
       "      <td>0</td>\n",
       "      <td>162000.00</td>\n",
       "      <td>1.3</td>\n",
       "      <td>129</td>\n",
       "      <td>1</td>\n",
       "      <td>1</td>\n",
       "      <td>7</td>\n",
       "    </tr>\n",
       "    <tr>\n",
       "      <th>3</th>\n",
       "      <td>50.0</td>\n",
       "      <td>1</td>\n",
       "      <td>111</td>\n",
       "      <td>0</td>\n",
       "      <td>20</td>\n",
       "      <td>0</td>\n",
       "      <td>210000.00</td>\n",
       "      <td>1.9</td>\n",
       "      <td>137</td>\n",
       "      <td>1</td>\n",
       "      <td>0</td>\n",
       "      <td>7</td>\n",
       "    </tr>\n",
       "    <tr>\n",
       "      <th>4</th>\n",
       "      <td>65.0</td>\n",
       "      <td>1</td>\n",
       "      <td>160</td>\n",
       "      <td>1</td>\n",
       "      <td>20</td>\n",
       "      <td>0</td>\n",
       "      <td>327000.00</td>\n",
       "      <td>2.7</td>\n",
       "      <td>116</td>\n",
       "      <td>0</td>\n",
       "      <td>0</td>\n",
       "      <td>8</td>\n",
       "    </tr>\n",
       "  </tbody>\n",
       "</table>\n",
       "</div>"
      ],
      "text/plain": [
       "    age  anaemia  creatinine_phosphokinase  diabetes  ejection_fraction  \\\n",
       "0  75.0        0                       582         0                 20   \n",
       "1  55.0        0                      7861         0                 38   \n",
       "2  65.0        0                       146         0                 20   \n",
       "3  50.0        1                       111         0                 20   \n",
       "4  65.0        1                       160         1                 20   \n",
       "\n",
       "   high_blood_pressure  platelets  serum_creatinine  serum_sodium  sex  \\\n",
       "0                    1  265000.00               1.9           130    1   \n",
       "1                    0  263358.03               1.1           136    1   \n",
       "2                    0  162000.00               1.3           129    1   \n",
       "3                    0  210000.00               1.9           137    1   \n",
       "4                    0  327000.00               2.7           116    0   \n",
       "\n",
       "   smoking  time  \n",
       "0        0     4  \n",
       "1        0     6  \n",
       "2        1     7  \n",
       "3        0     7  \n",
       "4        0     8  "
      ]
     },
     "execution_count": 2,
     "metadata": {},
     "output_type": "execute_result"
    }
   ],
   "source": [
    "  # Uploading the files\n",
    "df = pd.read_csv(\"HeartFailure.csv\")\n",
    "df_cluster = df.iloc[:,1:13]\n",
    "df_cluster.head()"
   ]
  },
  {
   "cell_type": "code",
   "execution_count": 3,
   "id": "93966de1",
   "metadata": {},
   "outputs": [],
   "source": [
    "# coverting the input csv file into a graph\n",
    "'''  '''\n",
    "def getGraph(df,measure) :\n",
    "    \n",
    "    dist = DistanceMetric.get_metric(measure)\n",
    "    matrix_dist = dist.pairwise(df.to_numpy())\n",
    "    Graph=nx.from_numpy_matrix(matrix_dist)\n",
    "    #draw_graph(Graph)\n",
    "    \n",
    "    return matrix_dist, Graph\n",
    "    "
   ]
  },
  {
   "cell_type": "code",
   "execution_count": 4,
   "id": "7ec76105",
   "metadata": {},
   "outputs": [],
   "source": [
    "#Function to draw graph\n",
    "def draw_graph(G):\n",
    "    pos = nx.spring_layout(G)\n",
    "    nx.draw_networkx_nodes(G, pos)\n",
    "    nx.draw_networkx_labels(G, pos)\n",
    "    nx.draw_networkx_edges(G, pos, width=1.0, alpha=0.5)"
   ]
  },
  {
   "cell_type": "code",
   "execution_count": 5,
   "id": "3b9cbef6",
   "metadata": {},
   "outputs": [
    {
     "data": {
      "text/plain": [
       "array([[     0.        ,   7461.94827916, 103000.92333741, ...,\n",
       "        477002.37119768, 125013.7195001 , 130000.88170889],\n",
       "       [  7461.94827916,      0.        , 101651.22697499, ...,\n",
       "        478677.19981275, 123478.57896239, 131865.22819429],\n",
       "       [103000.92333741, 101651.22697499,      0.        , ...,\n",
       "        580003.22319902,  22118.19755337, 233000.17313961],\n",
       "       ...,\n",
       "       [477002.37119768, 478677.19981275, 580003.22319902, ...,\n",
       "             0.        , 602000.10390727, 347005.00688411],\n",
       "       [125013.7195001 , 123478.57896239,  22118.19755337, ...,\n",
       "        602000.10390727,      0.        , 255009.63747286],\n",
       "       [130000.88170889, 131865.22819429, 233000.17313961, ...,\n",
       "        347005.00688411, 255009.63747286,      0.        ]])"
      ]
     },
     "execution_count": 5,
     "metadata": {},
     "output_type": "execute_result"
    }
   ],
   "source": [
    "matrix_dist, Graph = getGraph(df_cluster,\"euclidean\")\n",
    "matrix_dist"
   ]
  },
  {
   "cell_type": "code",
   "execution_count": 6,
   "id": "1c4d9488",
   "metadata": {},
   "outputs": [],
   "source": [
    "#equation fro adjacency matrix\n",
    "def equation(point):\n",
    "    n = 0.1\n",
    "    function = np.exp(-((point ** 2) / (2. * n ** 2)))\n",
    "    return function \n",
    "    "
   ]
  },
  {
   "cell_type": "code",
   "execution_count": 12,
   "id": "ce561704",
   "metadata": {},
   "outputs": [],
   "source": [
    "#Getting adjacency matrix for all the points in csv\n",
    "def getAjacency(matrix):\n",
    "    adacency_matrix = []\n",
    "    for row in matrix_dist:\n",
    "        x = []\n",
    "        for point in row:\n",
    "            x.append(equation(point))\n",
    "            adacency_matrix.append(x)\n",
    "    np.array(adacency_matrix)\n",
    "    \n",
    "    return adacency_matrix "
   ]
  },
  {
   "cell_type": "code",
   "execution_count": null,
   "id": "b8ed5808",
   "metadata": {},
   "outputs": [],
   "source": [
    "adacency_matrix= getAjacency(matrix_dist)\n",
    "print(adacency_matrix)\n"
   ]
  },
  {
   "cell_type": "code",
   "execution_count": null,
   "id": "d61ff8d7",
   "metadata": {},
   "outputs": [],
   "source": [
    "def getLaplacian(Graph,matrix_dist):\n",
    "    D = Graph.degree()\n",
    "    degrees = [val for (node, val) in Graph.degree()]\n",
    "    D = np.zeros((len(degrees), len(degrees)))\n",
    "    np.fill_diagonal(D, degrees)\n",
    "#     print('degree matrix:')\n",
    "    print(D)\n",
    "    L = D - matrix_dist\n",
    "    \n",
    "#Normalized laplacian matrix\n",
    "    D_half = linalg.fractional_matrix_power(D, -0.5)\n",
    "    LN = np.matmul(np.matmul(D_half, L), D_half)\n",
    "    \n",
    "#  print('laplacian matrix:')\n",
    "    print(LN)\n",
    "    return D,L,LN\n"
   ]
  },
  {
   "cell_type": "code",
   "execution_count": null,
   "id": "56a748a5",
   "metadata": {},
   "outputs": [],
   "source": [
    "def getEigen(LN):\n",
    "    e, v = np.linalg.eig(LN)\n",
    "        # eigenvalues\n",
    "    print('eigenvalues:')\n",
    "    print(e)\n",
    "        # eigenvectors\n",
    "    print('eigenvectors:')\n",
    "    print(v)\n",
    "    return e,v\n",
    "    "
   ]
  },
  {
   "cell_type": "code",
   "execution_count": null,
   "id": "f3e3fcb3",
   "metadata": {},
   "outputs": [],
   "source": [
    "D,L,LN = getLaplacian(Graph,matrix_dist)"
   ]
  },
  {
   "cell_type": "code",
   "execution_count": null,
   "id": "11c5ff52",
   "metadata": {},
   "outputs": [],
   "source": [
    "e,v = getEigen(LN)"
   ]
  },
  {
   "cell_type": "code",
   "execution_count": null,
   "id": "dd5dcd33",
   "metadata": {},
   "outputs": [],
   "source": [
    "fig = plt.figure()\n",
    "ax1 = plt.subplot(121)\n",
    "plt.plot(e)\n",
    "ax1.title.set_text('eigenvalues')\n",
    "i = np.where(e < 10e-6)[0]\n",
    "ax2 = plt.subplot(122)\n",
    "plt.plot(v[:, i[0]])\n",
    "fig.tight_layout()\n",
    "plt.show()"
   ]
  },
  {
   "cell_type": "code",
   "execution_count": null,
   "id": "fe15c612",
   "metadata": {},
   "outputs": [],
   "source": [
    "U = np.array(v[:, i[0]])\n",
    "km = KMeans(init='k-means++', n_clusters=3)\n",
    "df['clusters'] = km.fit_predict(U)\n",
    "df"
   ]
  },
  {
   "cell_type": "code",
   "execution_count": null,
   "id": "8332867a",
   "metadata": {},
   "outputs": [],
   "source": []
  }
 ],
 "metadata": {
  "kernelspec": {
   "display_name": "Python 3 (ipykernel)",
   "language": "python",
   "name": "python3"
  },
  "language_info": {
   "codemirror_mode": {
    "name": "ipython",
    "version": 3
   },
   "file_extension": ".py",
   "mimetype": "text/x-python",
   "name": "python",
   "nbconvert_exporter": "python",
   "pygments_lexer": "ipython3",
   "version": "3.10.6"
  }
 },
 "nbformat": 4,
 "nbformat_minor": 5
}
