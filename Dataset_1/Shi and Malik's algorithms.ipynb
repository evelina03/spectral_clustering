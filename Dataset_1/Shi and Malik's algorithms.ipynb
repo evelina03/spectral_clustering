{
 "cells": [
  {
   "cell_type": "code",
<<<<<<< Updated upstream
   "execution_count": 15,
=======
   "execution_count": null,
>>>>>>> Stashed changes
   "id": "dbd841d0",
   "metadata": {},
   "outputs": [],
   "source": [
    "\n",
    "'''Pakages to import'''\n",
    "import numpy as np\n",
    "import pandas as pd\n",
    "import math\n",
    "import itertools\n",
    "from sklearn.metrics import DistanceMetric\n",
    "import networkx as nx\n",
    "from numpy import inf\n",
    "from scipy import linalg\n",
    "from matplotlib import pyplot as plt\n",
    "from sklearn.cluster import KMeans\n",
    "import warnings\n",
    "warnings.filterwarnings(\"ignore\", category=np.VisibleDeprecationWarning) \n",
    "from scipy.spatial.distance import pdist"
   ]
  },
  {
   "cell_type": "code",
<<<<<<< Updated upstream
   "execution_count": 16,
   "id": "7e3a2e06",
   "metadata": {
    "scrolled": true
   },
   "outputs": [
    {
     "data": {
      "text/html": [
       "<div>\n",
       "<style scoped>\n",
       "    .dataframe tbody tr th:only-of-type {\n",
       "        vertical-align: middle;\n",
       "    }\n",
       "\n",
       "    .dataframe tbody tr th {\n",
       "        vertical-align: top;\n",
       "    }\n",
       "\n",
       "    .dataframe thead th {\n",
       "        text-align: right;\n",
       "    }\n",
       "</style>\n",
       "<table border=\"1\" class=\"dataframe\">\n",
       "  <thead>\n",
       "    <tr style=\"text-align: right;\">\n",
       "      <th></th>\n",
       "      <th>age</th>\n",
       "      <th>anaemia</th>\n",
       "      <th>creatinine_phosphokinase</th>\n",
       "      <th>diabetes</th>\n",
       "      <th>ejection_fraction</th>\n",
       "      <th>high_blood_pressure</th>\n",
       "      <th>platelets</th>\n",
       "      <th>serum_creatinine</th>\n",
       "      <th>serum_sodium</th>\n",
       "      <th>sex</th>\n",
       "    </tr>\n",
       "  </thead>\n",
       "  <tbody>\n",
       "    <tr>\n",
       "      <th>0</th>\n",
       "      <td>75.0</td>\n",
       "      <td>0</td>\n",
       "      <td>582</td>\n",
       "      <td>0</td>\n",
       "      <td>20</td>\n",
       "      <td>1</td>\n",
       "      <td>265000.00</td>\n",
       "      <td>1.9</td>\n",
       "      <td>130</td>\n",
       "      <td>1</td>\n",
       "    </tr>\n",
       "    <tr>\n",
       "      <th>1</th>\n",
       "      <td>55.0</td>\n",
       "      <td>0</td>\n",
       "      <td>7861</td>\n",
       "      <td>0</td>\n",
       "      <td>38</td>\n",
       "      <td>0</td>\n",
       "      <td>263358.03</td>\n",
       "      <td>1.1</td>\n",
       "      <td>136</td>\n",
       "      <td>1</td>\n",
       "    </tr>\n",
       "    <tr>\n",
       "      <th>2</th>\n",
       "      <td>65.0</td>\n",
       "      <td>0</td>\n",
       "      <td>146</td>\n",
       "      <td>0</td>\n",
       "      <td>20</td>\n",
       "      <td>0</td>\n",
       "      <td>162000.00</td>\n",
       "      <td>1.3</td>\n",
       "      <td>129</td>\n",
       "      <td>1</td>\n",
       "    </tr>\n",
       "    <tr>\n",
       "      <th>3</th>\n",
       "      <td>50.0</td>\n",
       "      <td>1</td>\n",
       "      <td>111</td>\n",
       "      <td>0</td>\n",
       "      <td>20</td>\n",
       "      <td>0</td>\n",
       "      <td>210000.00</td>\n",
       "      <td>1.9</td>\n",
       "      <td>137</td>\n",
       "      <td>1</td>\n",
       "    </tr>\n",
       "    <tr>\n",
       "      <th>4</th>\n",
       "      <td>65.0</td>\n",
       "      <td>1</td>\n",
       "      <td>160</td>\n",
       "      <td>1</td>\n",
       "      <td>20</td>\n",
       "      <td>0</td>\n",
       "      <td>327000.00</td>\n",
       "      <td>2.7</td>\n",
       "      <td>116</td>\n",
       "      <td>0</td>\n",
       "    </tr>\n",
       "  </tbody>\n",
       "</table>\n",
       "</div>"
      ],
      "text/plain": [
       "    age  anaemia  creatinine_phosphokinase  diabetes  ejection_fraction  \\\n",
       "0  75.0        0                       582         0                 20   \n",
       "1  55.0        0                      7861         0                 38   \n",
       "2  65.0        0                       146         0                 20   \n",
       "3  50.0        1                       111         0                 20   \n",
       "4  65.0        1                       160         1                 20   \n",
       "\n",
       "   high_blood_pressure  platelets  serum_creatinine  serum_sodium  sex  \n",
       "0                    1  265000.00               1.9           130    1  \n",
       "1                    0  263358.03               1.1           136    1  \n",
       "2                    0  162000.00               1.3           129    1  \n",
       "3                    0  210000.00               1.9           137    1  \n",
       "4                    0  327000.00               2.7           116    0  "
      ]
     },
     "execution_count": 16,
     "metadata": {},
     "output_type": "execute_result"
    }
   ],
=======
   "execution_count": null,
   "id": "7e3a2e06",
   "metadata": {},
   "outputs": [],
>>>>>>> Stashed changes
   "source": [
    "# Uploading the Da\n",
    "df = pd.read_csv(\"HeartFailure.csv\")\n",
    "df_cluster = df.iloc[:,1:11]\n",
    "df_cluster.head()"
   ]
  },
  {
<<<<<<< Updated upstream
   "cell_type": "markdown",
   "id": "834ddfb4",
=======
   "cell_type": "code",
   "execution_count": null,
   "id": "c097c86a",
   "metadata": {},
   "outputs": [],
   "source": [
    "def data_preprocessing(df):\n",
    "    scaler = StandardScaler()\n",
    "    df_scaled = scaler.fit_transform(df)\n",
    "    df_normalized = normalize(df_scaled)\n",
    "    df_normalized = pd.DataFrame(df_normalized)\n",
    "    pca = PCA(n_components = 2)\n",
    "    df_principal = pca.fit_transform(df_normalized)\n",
    "    df_principal = pd.DataFrame(df_principal)\n",
    "    df_principal.columns = ['P1', 'P2']\n",
    "    return df_principal"
   ]
  },
  {
   "cell_type": "code",
   "execution_count": null,
   "id": "faf0f86c",
>>>>>>> Stashed changes
   "metadata": {},
   "source": [
    "### Spectral Clustering: Shi and Malik Algorithm\n",
    "#### 1 - Function to read df and output graph and matrix_dist\n",
    "#### 2 - Function to create adjacency matrix fom given algorithm\n",
    "#### 3 - "
   ]
  },
  {
   "cell_type": "code",
<<<<<<< Updated upstream
   "execution_count": 17,
=======
   "execution_count": null,
>>>>>>> Stashed changes
   "id": "93966de1",
   "metadata": {},
   "outputs": [],
   "source": [
    "# coverting the input csv file into a graph\n",
    "'''  '''\n",
    "def get_graph(df,measure) :\n",
    "    \n",
    "    dist = DistanceMetric.get_metric(measure)\n",
    "    matrix_dist = dist.pairwise(df.to_numpy())\n",
<<<<<<< Updated upstream
    "    Graph=nx.from_numpy_matrix(matrix_dist)\n",
    "    #draw_graph(Graph)\n",
=======
    "    Graph = nx.from_numpy_matrix(matrix_dist)\n",
    "    draw_graph(Graph)\n",
>>>>>>> Stashed changes
    "    \n",
    "    return matrix_dist, Graph\n",
    "    "
   ]
  },
  {
   "cell_type": "code",
<<<<<<< Updated upstream
   "execution_count": 18,
=======
   "execution_count": null,
>>>>>>> Stashed changes
   "id": "7ec76105",
   "metadata": {},
   "outputs": [],
   "source": [
    "#Function to draw graph\n",
    "def draw_graph(G):\n",
    "    pos = nx.spring_layout(G)\n",
    "    nx.draw_networkx_nodes(G, pos)\n",
    "    nx.draw_networkx_labels(G, pos)\n",
    "    nx.draw_networkx_edges(G, pos, width=1.0, alpha=0.5)"
   ]
  },
  {
   "cell_type": "code",
<<<<<<< Updated upstream
   "execution_count": 19,
   "id": "3b9cbef6",
   "metadata": {},
   "outputs": [
    {
     "data": {
      "text/plain": [
       "array([[     0.        ,   7461.94801114, 103000.92328887, ...,\n",
       "        477002.29250205, 125013.41482517, 130000.5780106 ],\n",
       "       [  7461.94801114,      0.        , 101651.22696515, ...,\n",
       "        478677.1225331 , 123478.27495382, 131864.93303654],\n",
       "       [103000.92328887, 101651.22696515,      0.        , ...,\n",
       "        580003.1598873 ,  22116.51270002, 233000.00729418],\n",
       "       ...,\n",
       "       [477002.29250205, 478677.1225331 , 580003.1598873 , ...,\n",
       "             0.        , 602000.10390311, 347005.00681206],\n",
       "       [125013.41482517, 123478.27495382,  22116.51270002, ...,\n",
       "        602000.10390311,      0.        , 255009.63742384],\n",
       "       [130000.5780106 , 131864.93303654, 233000.00729418, ...,\n",
       "        347005.00681206, 255009.63742384,      0.        ]])"
      ]
     },
     "execution_count": 19,
     "metadata": {},
     "output_type": "execute_result"
    }
   ],
=======
   "execution_count": null,
   "id": "3b9cbef6",
   "metadata": {},
   "outputs": [],
>>>>>>> Stashed changes
   "source": [
    "matrix_dist, Graph = get_graph(df_cluster,\"euclidean\")\n",
    "matrix_dist"
   ]
  },
  {
   "cell_type": "code",
<<<<<<< Updated upstream
   "execution_count": 20,
=======
   "execution_count": null,
>>>>>>> Stashed changes
   "id": "1c4d9488",
   "metadata": {},
   "outputs": [],
   "source": [
    "#equation fro adjacency matrix\n",
    "def adjacency_equation_shi_malik(df, sigma, distance):\n",
    "    dim = df.shape[0]\n",
    "    A = np.zeros([dim, dim])\n",
    "    dist = iter(pdist(df, metric=distance))\n",
    "#     matrix_dist = dist.pairwise(df.to_numpy())\n",
    "    for i in range(dim):\n",
    "        for j in range(i+1, dim):  \n",
    "            d = np.exp(-next(dist) ** 2) / (2. * sigma ** 2)\n",
    "            A[i,j] = d\n",
    "            A[j,i] = d\n",
    "    return A\n"
   ]
  },
  {
   "cell_type": "code",
<<<<<<< Updated upstream
   "execution_count": 21,
   "id": "b8ed5808",
   "metadata": {},
   "outputs": [
    {
     "data": {
      "text/plain": [
       "array([[0., 0., 0., ..., 0., 0., 0.],\n",
       "       [0., 0., 0., ..., 0., 0., 0.],\n",
       "       [0., 0., 0., ..., 0., 0., 0.],\n",
       "       ...,\n",
       "       [0., 0., 0., ..., 0., 0., 0.],\n",
       "       [0., 0., 0., ..., 0., 0., 0.],\n",
       "       [0., 0., 0., ..., 0., 0., 0.]])"
      ]
     },
     "execution_count": 21,
     "metadata": {},
     "output_type": "execute_result"
    }
   ],
   "source": [
    "adjacency_matrix = equation(df_cluster, 0.3, 'euclidean')\n",
=======
   "execution_count": null,
   "id": "b8ed5808",
   "metadata": {},
   "outputs": [],
   "source": [
    "adjacency_matrix = adjacency_equation_shi_malik(df_pca_cluster, 0.3, 'euclidean')\n",
>>>>>>> Stashed changes
    "# adacency_matrix= getAjacency(df_cluster)\n",
    "adjacency_matrix\n"
   ]
  },
  {
   "cell_type": "code",
<<<<<<< Updated upstream
   "execution_count": 22,
=======
   "execution_count": null,
>>>>>>> Stashed changes
   "id": "d61ff8d7",
   "metadata": {},
   "outputs": [],
   "source": [
    "def get_laplacian(Graph,matrix_dist):\n",
    "    D = Graph.degree()\n",
    "    degrees = [val for (node, val) in Graph.degree()]\n",
    "    D = np.zeros((len(degrees), len(degrees)))\n",
    "    np.fill_diagonal(D, degrees)\n",
<<<<<<< Updated upstream
    "#     print('degree matrix:')\n",
    "    print(D)\n",
=======
>>>>>>> Stashed changes
    "    L = D - matrix_dist\n",
    "    \n",
    "#Normalized laplacian matrix\n",
    "    D_half = linalg.fractional_matrix_power(D, -0.5)\n",
    "    LN = np.matmul(np.matmul(D_half, L), D_half)\n",
<<<<<<< Updated upstream
    "    \n",
    "#  print('laplacian matrix:')\n",
    "    print(LN)\n",
=======
>>>>>>> Stashed changes
    "    return D,L,LN\n"
   ]
  },
  {
   "cell_type": "code",
<<<<<<< Updated upstream
   "execution_count": 28,
=======
   "execution_count": null,
>>>>>>> Stashed changes
   "id": "56a748a5",
   "metadata": {},
   "outputs": [],
   "source": [
<<<<<<< Updated upstream
    "def getEigen(LN):\n",
    "    e, v = np.linalg.eig(LN)\n",
    "    return e,v\n",
    "    "
=======
    "D,L,LN = get_laplacian(Graph,adjacency_matrix)\n",
    "e, v = np.linalg.eig(LN)\n",
    "e = e.real\n",
    "v = v.real"
>>>>>>> Stashed changes
   ]
  },
  {
   "cell_type": "code",
<<<<<<< Updated upstream
   "execution_count": 29,
   "id": "f3e3fcb3",
   "metadata": {},
   "outputs": [
    {
     "name": "stdout",
     "output_type": "stream",
     "text": [
      "[[298.   0.   0. ...   0.   0.   0.]\n",
      " [  0. 298.   0. ...   0.   0.   0.]\n",
      " [  0.   0. 298. ...   0.   0.   0.]\n",
      " ...\n",
      " [  0.   0.   0. ... 298.   0.   0.]\n",
      " [  0.   0.   0. ...   0. 298.   0.]\n",
      " [  0.   0.   0. ...   0.   0. 298.]]\n",
      "[[ 1.00000000e+00 -2.50400940e+01 -3.45640682e+02 ... -1.60067883e+03\n",
      "  -4.19508103e+02 -4.36243550e+02]\n",
      " [-2.50400940e+01  1.00000000e+00 -3.41111500e+02 ... -1.60629907e+03\n",
      "  -4.14356627e+02 -4.42499775e+02]\n",
      " [-3.45640682e+02 -3.41111500e+02  1.00000000e+00 ... -1.94631933e+03\n",
      "  -7.42164856e+01 -7.81879219e+02]\n",
      " ...\n",
      " [-1.60067883e+03 -1.60629907e+03 -1.94631933e+03 ...  1.00000000e+00\n",
      "  -2.02013458e+03 -1.16444633e+03]\n",
      " [-4.19508103e+02 -4.14356627e+02 -7.42164856e+01 ... -2.02013458e+03\n",
      "   1.00000000e+00 -8.55737038e+02]\n",
      " [-4.36243550e+02 -4.42499775e+02 -7.81879219e+02 ... -1.16444633e+03\n",
      "  -8.55737038e+02  1.00000000e+00]]\n"
     ]
    }
   ],
   "source": [
    "D,L,LN = getLaplacian(Graph,matrix_dist)"
=======
   "execution_count": null,
   "id": "b65a5c48",
   "metadata": {},
   "outputs": [],
   "source": [
    "LN"
>>>>>>> Stashed changes
   ]
  },
  {
   "cell_type": "code",
<<<<<<< Updated upstream
   "execution_count": 30,
=======
   "execution_count": null,
>>>>>>> Stashed changes
   "id": "11c5ff52",
   "metadata": {},
   "outputs": [],
   "source": [
    "v"
   ]
  },
  {
   "cell_type": "code",
<<<<<<< Updated upstream
   "execution_count": 26,
   "id": "dd5dcd33",
   "metadata": {},
   "outputs": [
    {
     "data": {
      "image/png": "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\n",
      "text/plain": [
       "<Figure size 432x288 with 2 Axes>"
      ]
     },
     "metadata": {
      "needs_background": "light"
     },
     "output_type": "display_data"
    }
   ],
=======
   "execution_count": null,
   "id": "dd5dcd33",
   "metadata": {},
   "outputs": [],
>>>>>>> Stashed changes
   "source": [
    "fig = plt.figure()\n",
    "ax1 = plt.subplot(121)\n",
    "plt.plot(e)\n",
    "ax1.title.set_text('eigenvalues')\n",
    "i = np.where(e < 10e-6)[0]\n",
    "ax2 = plt.subplot(122)\n",
    "plt.plot(v[:, i[0]])\n",
    "fig.tight_layout()\n",
    "plt.show()"
   ]
  },
  {
   "cell_type": "code",
   "execution_count": 27,
   "id": "fe15c612",
   "metadata": {},
   "outputs": [
    {
     "ename": "ValueError",
     "evalue": "Expected 2D array, got 1D array instead:\narray=[-0.04134904 -0.04177242 -0.05823803 -0.0462537  -0.04998002 -0.04746467\n -0.07002273 -0.08769884 -0.04128975 -0.0656349  -0.05989988 -0.04149878\n -0.06674376 -0.04213851 -0.07834776 -0.10210934 -0.04129239 -0.05706225\n -0.04248927 -0.08565651 -0.04213934 -0.04464162 -0.04359432 -0.05989995\n -0.04127916 -0.06226753 -0.04921213 -0.04298302 -0.06098424 -0.04832251\n -0.04127933 -0.05778055 -0.04838238 -0.04536155 -0.05111283 -0.04337914\n -0.04362001 -0.04877324 -0.04587094 -0.0504052  -0.04127923 -0.06098388\n -0.05186922 -0.04478324 -0.04967105 -0.04671574 -0.04173209 -0.08662483\n -0.06533726 -0.06779989 -0.05706224 -0.07530475 -0.04143432 -0.05553181\n -0.04142707 -0.09024064 -0.0440113  -0.04513075 -0.04838197 -0.04145908\n -0.06641354 -0.04513066 -0.04146078 -0.06474627 -0.04127955 -0.07308969\n -0.04568136 -0.04196434 -0.04197833 -0.1035752  -0.06157647 -0.07192994\n -0.042232   -0.06226712 -0.0414023  -0.04746467 -0.048004   -0.04248946\n -0.04286506 -0.04937049 -0.04410591 -0.04127916 -0.04921227 -0.05534633\n -0.04536077 -0.07132674 -0.05506653 -0.04567664 -0.04266312 -0.05291507\n -0.04168751 -0.0446416  -0.04127935 -0.04625344 -0.04998013 -0.04461554\n -0.04145902 -0.04142848 -0.04819167 -0.04429869 -0.04478073 -0.04127916\n -0.06226874 -0.04378745 -0.04322486 -0.15298875 -0.04127955 -0.0436341\n -0.04567525 -0.24851072 -0.04601048 -0.04338148 -0.04154207 -0.05553152\n -0.05018991 -0.05764668 -0.04172926 -0.10738242 -0.04767287 -0.04127923\n -0.04625372 -0.0582383  -0.04338109 -0.07002228 -0.0449551  -0.04248845\n -0.04172849 -0.04506705 -0.04146212 -0.04349691 -0.04169721 -0.0416367\n -0.04128031 -0.04436931 -0.04317192 -0.04127914 -0.05534631 -0.04583747\n -0.04429689 -0.0460689  -0.04128156 -0.05480778 -0.05040432 -0.04327123\n -0.05243827 -0.04140515 -0.04478321 -0.04212071 -0.04374467 -0.0434046\n -0.04266179 -0.04197949 -0.0521282  -0.04131426 -0.04266132 -0.04967056\n -0.04223244 -0.04129086 -0.04266302 -0.05829126 -0.04211668 -0.05479195\n -0.08557694 -0.09045408 -0.05153349 -0.05014523 -0.04445303 -0.09248567\n -0.04165538 -0.04583813 -0.04127918 -0.04962929 -0.05424969 -0.05086468\n -0.04264201 -0.05220498 -0.07855495 -0.06817571 -0.04146354 -0.04242892\n -0.04551537 -0.04429749 -0.04135025 -0.04387717 -0.04461545 -0.06593504\n -0.06098406 -0.0590959  -0.04810377 -0.04204939 -0.05528787 -0.04653725\n -0.04132159 -0.05884121 -0.07040032 -0.04400939 -0.04127923 -0.04133908\n -0.04242768 -0.04129105 -0.09125945 -0.06242993 -0.04445378 -0.0458704\n -0.04223239 -0.05829107 -0.04361959 -0.05161462 -0.04288752 -0.04152437\n -0.06593462 -0.06293592 -0.09760149 -0.04197852 -0.04372057 -0.04767327\n -0.0572767  -0.06161903 -0.04172785 -0.06073232 -0.04127923 -0.04967102\n -0.05908784 -0.06890894 -0.10622796 -0.04134905 -0.05086485 -0.06500954\n -0.04248993 -0.04196353 -0.09579734 -0.05186933 -0.04142774 -0.05062397\n -0.04583751 -0.07132662 -0.04174121 -0.05506609 -0.041379   -0.041289\n -0.11753798 -0.04168474 -0.0414281  -0.0444592  -0.04130358 -0.04275275\n -0.04745667 -0.04185659 -0.04521183 -0.0440101  -0.07068928 -0.04305688\n -0.04196338 -0.04257445 -0.0412818  -0.05151818 -0.04423568 -0.0414995\n -0.04285686 -0.04635983 -0.04767311 -0.04286433 -0.04876412 -0.04665284\n -0.06293592 -0.05829091 -0.04129069 -0.06781234 -0.04536047 -0.04414997\n -0.04127927 -0.04429711 -0.04531112 -0.05086481 -0.06194106 -0.0766474\n -0.04997913 -0.11153493 -0.04295579 -0.08662526 -0.04221618 -0.10040992\n -0.045312   -0.0413077  -0.04242972 -0.05197351 -0.04242818 -0.12150769\n -0.04128317 -0.06624138 -0.04415007 -0.06781177 -0.0638711  -0.0534455\n -0.06036671 -0.04166921 -0.20283266 -0.0653493  -0.06779966].\nReshape your data either using array.reshape(-1, 1) if your data has a single feature or array.reshape(1, -1) if it contains a single sample.",
     "output_type": "error",
     "traceback": [
      "\u001b[1;31m---------------------------------------------------------------------------\u001b[0m",
      "\u001b[1;31mValueError\u001b[0m                                Traceback (most recent call last)",
      "Input \u001b[1;32mIn [27]\u001b[0m, in \u001b[0;36m<cell line: 3>\u001b[1;34m()\u001b[0m\n\u001b[0;32m      1\u001b[0m U \u001b[38;5;241m=\u001b[39m np\u001b[38;5;241m.\u001b[39marray(v[:, i[\u001b[38;5;241m0\u001b[39m]])\n\u001b[0;32m      2\u001b[0m km \u001b[38;5;241m=\u001b[39m KMeans(init\u001b[38;5;241m=\u001b[39m\u001b[38;5;124m'\u001b[39m\u001b[38;5;124mk-means++\u001b[39m\u001b[38;5;124m'\u001b[39m, n_clusters\u001b[38;5;241m=\u001b[39m\u001b[38;5;241m3\u001b[39m)\n\u001b[1;32m----> 3\u001b[0m df[\u001b[38;5;124m'\u001b[39m\u001b[38;5;124mclusters\u001b[39m\u001b[38;5;124m'\u001b[39m] \u001b[38;5;241m=\u001b[39m \u001b[43mkm\u001b[49m\u001b[38;5;241;43m.\u001b[39;49m\u001b[43mfit_predict\u001b[49m\u001b[43m(\u001b[49m\u001b[43mU\u001b[49m\u001b[43m)\u001b[49m\n\u001b[0;32m      4\u001b[0m df\n",
      "File \u001b[1;32m~\\AppData\\Local\\Programs\\Python\\Python39\\lib\\site-packages\\sklearn\\cluster\\_kmeans.py:1255\u001b[0m, in \u001b[0;36mKMeans.fit_predict\u001b[1;34m(self, X, y, sample_weight)\u001b[0m\n\u001b[0;32m   1232\u001b[0m \u001b[38;5;28;01mdef\u001b[39;00m \u001b[38;5;21mfit_predict\u001b[39m(\u001b[38;5;28mself\u001b[39m, X, y\u001b[38;5;241m=\u001b[39m\u001b[38;5;28;01mNone\u001b[39;00m, sample_weight\u001b[38;5;241m=\u001b[39m\u001b[38;5;28;01mNone\u001b[39;00m):\n\u001b[0;32m   1233\u001b[0m     \u001b[38;5;124;03m\"\"\"Compute cluster centers and predict cluster index for each sample.\u001b[39;00m\n\u001b[0;32m   1234\u001b[0m \n\u001b[0;32m   1235\u001b[0m \u001b[38;5;124;03m    Convenience method; equivalent to calling fit(X) followed by\u001b[39;00m\n\u001b[1;32m   (...)\u001b[0m\n\u001b[0;32m   1253\u001b[0m \u001b[38;5;124;03m        Index of the cluster each sample belongs to.\u001b[39;00m\n\u001b[0;32m   1254\u001b[0m \u001b[38;5;124;03m    \"\"\"\u001b[39;00m\n\u001b[1;32m-> 1255\u001b[0m     \u001b[38;5;28;01mreturn\u001b[39;00m \u001b[38;5;28;43mself\u001b[39;49m\u001b[38;5;241;43m.\u001b[39;49m\u001b[43mfit\u001b[49m\u001b[43m(\u001b[49m\u001b[43mX\u001b[49m\u001b[43m,\u001b[49m\u001b[43m \u001b[49m\u001b[43msample_weight\u001b[49m\u001b[38;5;241;43m=\u001b[39;49m\u001b[43msample_weight\u001b[49m\u001b[43m)\u001b[49m\u001b[38;5;241m.\u001b[39mlabels_\n",
      "File \u001b[1;32m~\\AppData\\Local\\Programs\\Python\\Python39\\lib\\site-packages\\sklearn\\cluster\\_kmeans.py:1137\u001b[0m, in \u001b[0;36mKMeans.fit\u001b[1;34m(self, X, y, sample_weight)\u001b[0m\n\u001b[0;32m   1111\u001b[0m \u001b[38;5;28;01mdef\u001b[39;00m \u001b[38;5;21mfit\u001b[39m(\u001b[38;5;28mself\u001b[39m, X, y\u001b[38;5;241m=\u001b[39m\u001b[38;5;28;01mNone\u001b[39;00m, sample_weight\u001b[38;5;241m=\u001b[39m\u001b[38;5;28;01mNone\u001b[39;00m):\n\u001b[0;32m   1112\u001b[0m     \u001b[38;5;124;03m\"\"\"Compute k-means clustering.\u001b[39;00m\n\u001b[0;32m   1113\u001b[0m \n\u001b[0;32m   1114\u001b[0m \u001b[38;5;124;03m    Parameters\u001b[39;00m\n\u001b[1;32m   (...)\u001b[0m\n\u001b[0;32m   1135\u001b[0m \u001b[38;5;124;03m        Fitted estimator.\u001b[39;00m\n\u001b[0;32m   1136\u001b[0m \u001b[38;5;124;03m    \"\"\"\u001b[39;00m\n\u001b[1;32m-> 1137\u001b[0m     X \u001b[38;5;241m=\u001b[39m \u001b[38;5;28;43mself\u001b[39;49m\u001b[38;5;241;43m.\u001b[39;49m\u001b[43m_validate_data\u001b[49m\u001b[43m(\u001b[49m\n\u001b[0;32m   1138\u001b[0m \u001b[43m        \u001b[49m\u001b[43mX\u001b[49m\u001b[43m,\u001b[49m\n\u001b[0;32m   1139\u001b[0m \u001b[43m        \u001b[49m\u001b[43maccept_sparse\u001b[49m\u001b[38;5;241;43m=\u001b[39;49m\u001b[38;5;124;43m\"\u001b[39;49m\u001b[38;5;124;43mcsr\u001b[39;49m\u001b[38;5;124;43m\"\u001b[39;49m\u001b[43m,\u001b[49m\n\u001b[0;32m   1140\u001b[0m \u001b[43m        \u001b[49m\u001b[43mdtype\u001b[49m\u001b[38;5;241;43m=\u001b[39;49m\u001b[43m[\u001b[49m\u001b[43mnp\u001b[49m\u001b[38;5;241;43m.\u001b[39;49m\u001b[43mfloat64\u001b[49m\u001b[43m,\u001b[49m\u001b[43m \u001b[49m\u001b[43mnp\u001b[49m\u001b[38;5;241;43m.\u001b[39;49m\u001b[43mfloat32\u001b[49m\u001b[43m]\u001b[49m\u001b[43m,\u001b[49m\n\u001b[0;32m   1141\u001b[0m \u001b[43m        \u001b[49m\u001b[43morder\u001b[49m\u001b[38;5;241;43m=\u001b[39;49m\u001b[38;5;124;43m\"\u001b[39;49m\u001b[38;5;124;43mC\u001b[39;49m\u001b[38;5;124;43m\"\u001b[39;49m\u001b[43m,\u001b[49m\n\u001b[0;32m   1142\u001b[0m \u001b[43m        \u001b[49m\u001b[43mcopy\u001b[49m\u001b[38;5;241;43m=\u001b[39;49m\u001b[38;5;28;43mself\u001b[39;49m\u001b[38;5;241;43m.\u001b[39;49m\u001b[43mcopy_x\u001b[49m\u001b[43m,\u001b[49m\n\u001b[0;32m   1143\u001b[0m \u001b[43m        \u001b[49m\u001b[43maccept_large_sparse\u001b[49m\u001b[38;5;241;43m=\u001b[39;49m\u001b[38;5;28;43;01mFalse\u001b[39;49;00m\u001b[43m,\u001b[49m\n\u001b[0;32m   1144\u001b[0m \u001b[43m    \u001b[49m\u001b[43m)\u001b[49m\n\u001b[0;32m   1146\u001b[0m     \u001b[38;5;28mself\u001b[39m\u001b[38;5;241m.\u001b[39m_check_params(X)\n\u001b[0;32m   1147\u001b[0m     random_state \u001b[38;5;241m=\u001b[39m check_random_state(\u001b[38;5;28mself\u001b[39m\u001b[38;5;241m.\u001b[39mrandom_state)\n",
      "File \u001b[1;32m~\\AppData\\Local\\Programs\\Python\\Python39\\lib\\site-packages\\sklearn\\base.py:566\u001b[0m, in \u001b[0;36mBaseEstimator._validate_data\u001b[1;34m(self, X, y, reset, validate_separately, **check_params)\u001b[0m\n\u001b[0;32m    564\u001b[0m     \u001b[38;5;28;01mraise\u001b[39;00m \u001b[38;5;167;01mValueError\u001b[39;00m(\u001b[38;5;124m\"\u001b[39m\u001b[38;5;124mValidation should be done on X, y or both.\u001b[39m\u001b[38;5;124m\"\u001b[39m)\n\u001b[0;32m    565\u001b[0m \u001b[38;5;28;01melif\u001b[39;00m \u001b[38;5;129;01mnot\u001b[39;00m no_val_X \u001b[38;5;129;01mand\u001b[39;00m no_val_y:\n\u001b[1;32m--> 566\u001b[0m     X \u001b[38;5;241m=\u001b[39m check_array(X, \u001b[38;5;241m*\u001b[39m\u001b[38;5;241m*\u001b[39mcheck_params)\n\u001b[0;32m    567\u001b[0m     out \u001b[38;5;241m=\u001b[39m X\n\u001b[0;32m    568\u001b[0m \u001b[38;5;28;01melif\u001b[39;00m no_val_X \u001b[38;5;129;01mand\u001b[39;00m \u001b[38;5;129;01mnot\u001b[39;00m no_val_y:\n",
      "File \u001b[1;32m~\\AppData\\Local\\Programs\\Python\\Python39\\lib\\site-packages\\sklearn\\utils\\validation.py:769\u001b[0m, in \u001b[0;36mcheck_array\u001b[1;34m(array, accept_sparse, accept_large_sparse, dtype, order, copy, force_all_finite, ensure_2d, allow_nd, ensure_min_samples, ensure_min_features, estimator)\u001b[0m\n\u001b[0;32m    767\u001b[0m     \u001b[38;5;66;03m# If input is 1D raise error\u001b[39;00m\n\u001b[0;32m    768\u001b[0m     \u001b[38;5;28;01mif\u001b[39;00m array\u001b[38;5;241m.\u001b[39mndim \u001b[38;5;241m==\u001b[39m \u001b[38;5;241m1\u001b[39m:\n\u001b[1;32m--> 769\u001b[0m         \u001b[38;5;28;01mraise\u001b[39;00m \u001b[38;5;167;01mValueError\u001b[39;00m(\n\u001b[0;32m    770\u001b[0m             \u001b[38;5;124m\"\u001b[39m\u001b[38;5;124mExpected 2D array, got 1D array instead:\u001b[39m\u001b[38;5;130;01m\\n\u001b[39;00m\u001b[38;5;124marray=\u001b[39m\u001b[38;5;132;01m{}\u001b[39;00m\u001b[38;5;124m.\u001b[39m\u001b[38;5;130;01m\\n\u001b[39;00m\u001b[38;5;124m\"\u001b[39m\n\u001b[0;32m    771\u001b[0m             \u001b[38;5;124m\"\u001b[39m\u001b[38;5;124mReshape your data either using array.reshape(-1, 1) if \u001b[39m\u001b[38;5;124m\"\u001b[39m\n\u001b[0;32m    772\u001b[0m             \u001b[38;5;124m\"\u001b[39m\u001b[38;5;124myour data has a single feature or array.reshape(1, -1) \u001b[39m\u001b[38;5;124m\"\u001b[39m\n\u001b[0;32m    773\u001b[0m             \u001b[38;5;124m\"\u001b[39m\u001b[38;5;124mif it contains a single sample.\u001b[39m\u001b[38;5;124m\"\u001b[39m\u001b[38;5;241m.\u001b[39mformat(array)\n\u001b[0;32m    774\u001b[0m         )\n\u001b[0;32m    776\u001b[0m \u001b[38;5;66;03m# make sure we actually converted to numeric:\u001b[39;00m\n\u001b[0;32m    777\u001b[0m \u001b[38;5;28;01mif\u001b[39;00m dtype_numeric \u001b[38;5;129;01mand\u001b[39;00m array\u001b[38;5;241m.\u001b[39mdtype\u001b[38;5;241m.\u001b[39mkind \u001b[38;5;129;01min\u001b[39;00m \u001b[38;5;124m\"\u001b[39m\u001b[38;5;124mOUSV\u001b[39m\u001b[38;5;124m\"\u001b[39m:\n",
      "\u001b[1;31mValueError\u001b[0m: Expected 2D array, got 1D array instead:\narray=[-0.04134904 -0.04177242 -0.05823803 -0.0462537  -0.04998002 -0.04746467\n -0.07002273 -0.08769884 -0.04128975 -0.0656349  -0.05989988 -0.04149878\n -0.06674376 -0.04213851 -0.07834776 -0.10210934 -0.04129239 -0.05706225\n -0.04248927 -0.08565651 -0.04213934 -0.04464162 -0.04359432 -0.05989995\n -0.04127916 -0.06226753 -0.04921213 -0.04298302 -0.06098424 -0.04832251\n -0.04127933 -0.05778055 -0.04838238 -0.04536155 -0.05111283 -0.04337914\n -0.04362001 -0.04877324 -0.04587094 -0.0504052  -0.04127923 -0.06098388\n -0.05186922 -0.04478324 -0.04967105 -0.04671574 -0.04173209 -0.08662483\n -0.06533726 -0.06779989 -0.05706224 -0.07530475 -0.04143432 -0.05553181\n -0.04142707 -0.09024064 -0.0440113  -0.04513075 -0.04838197 -0.04145908\n -0.06641354 -0.04513066 -0.04146078 -0.06474627 -0.04127955 -0.07308969\n -0.04568136 -0.04196434 -0.04197833 -0.1035752  -0.06157647 -0.07192994\n -0.042232   -0.06226712 -0.0414023  -0.04746467 -0.048004   -0.04248946\n -0.04286506 -0.04937049 -0.04410591 -0.04127916 -0.04921227 -0.05534633\n -0.04536077 -0.07132674 -0.05506653 -0.04567664 -0.04266312 -0.05291507\n -0.04168751 -0.0446416  -0.04127935 -0.04625344 -0.04998013 -0.04461554\n -0.04145902 -0.04142848 -0.04819167 -0.04429869 -0.04478073 -0.04127916\n -0.06226874 -0.04378745 -0.04322486 -0.15298875 -0.04127955 -0.0436341\n -0.04567525 -0.24851072 -0.04601048 -0.04338148 -0.04154207 -0.05553152\n -0.05018991 -0.05764668 -0.04172926 -0.10738242 -0.04767287 -0.04127923\n -0.04625372 -0.0582383  -0.04338109 -0.07002228 -0.0449551  -0.04248845\n -0.04172849 -0.04506705 -0.04146212 -0.04349691 -0.04169721 -0.0416367\n -0.04128031 -0.04436931 -0.04317192 -0.04127914 -0.05534631 -0.04583747\n -0.04429689 -0.0460689  -0.04128156 -0.05480778 -0.05040432 -0.04327123\n -0.05243827 -0.04140515 -0.04478321 -0.04212071 -0.04374467 -0.0434046\n -0.04266179 -0.04197949 -0.0521282  -0.04131426 -0.04266132 -0.04967056\n -0.04223244 -0.04129086 -0.04266302 -0.05829126 -0.04211668 -0.05479195\n -0.08557694 -0.09045408 -0.05153349 -0.05014523 -0.04445303 -0.09248567\n -0.04165538 -0.04583813 -0.04127918 -0.04962929 -0.05424969 -0.05086468\n -0.04264201 -0.05220498 -0.07855495 -0.06817571 -0.04146354 -0.04242892\n -0.04551537 -0.04429749 -0.04135025 -0.04387717 -0.04461545 -0.06593504\n -0.06098406 -0.0590959  -0.04810377 -0.04204939 -0.05528787 -0.04653725\n -0.04132159 -0.05884121 -0.07040032 -0.04400939 -0.04127923 -0.04133908\n -0.04242768 -0.04129105 -0.09125945 -0.06242993 -0.04445378 -0.0458704\n -0.04223239 -0.05829107 -0.04361959 -0.05161462 -0.04288752 -0.04152437\n -0.06593462 -0.06293592 -0.09760149 -0.04197852 -0.04372057 -0.04767327\n -0.0572767  -0.06161903 -0.04172785 -0.06073232 -0.04127923 -0.04967102\n -0.05908784 -0.06890894 -0.10622796 -0.04134905 -0.05086485 -0.06500954\n -0.04248993 -0.04196353 -0.09579734 -0.05186933 -0.04142774 -0.05062397\n -0.04583751 -0.07132662 -0.04174121 -0.05506609 -0.041379   -0.041289\n -0.11753798 -0.04168474 -0.0414281  -0.0444592  -0.04130358 -0.04275275\n -0.04745667 -0.04185659 -0.04521183 -0.0440101  -0.07068928 -0.04305688\n -0.04196338 -0.04257445 -0.0412818  -0.05151818 -0.04423568 -0.0414995\n -0.04285686 -0.04635983 -0.04767311 -0.04286433 -0.04876412 -0.04665284\n -0.06293592 -0.05829091 -0.04129069 -0.06781234 -0.04536047 -0.04414997\n -0.04127927 -0.04429711 -0.04531112 -0.05086481 -0.06194106 -0.0766474\n -0.04997913 -0.11153493 -0.04295579 -0.08662526 -0.04221618 -0.10040992\n -0.045312   -0.0413077  -0.04242972 -0.05197351 -0.04242818 -0.12150769\n -0.04128317 -0.06624138 -0.04415007 -0.06781177 -0.0638711  -0.0534455\n -0.06036671 -0.04166921 -0.20283266 -0.0653493  -0.06779966].\nReshape your data either using array.reshape(-1, 1) if your data has a single feature or array.reshape(1, -1) if it contains a single sample."
     ]
    }
   ],
   "source": [
    "U = np.array(v[:, i[0]])\n",
    "km = KMeans(init='k-means++', n_clusters=3)\n",
    "df['clusters'] = km.fit_predict(U)\n",
    "df"
   ]
  },
  {
   "cell_type": "code",
   "execution_count": null,
   "id": "8332867a",
   "metadata": {},
   "outputs": [],
<<<<<<< Updated upstream
=======
   "source": [
    "silhouette(df_cluster)"
   ]
  },
  {
   "cell_type": "code",
   "execution_count": null,
   "id": "f142c405",
   "metadata": {},
   "outputs": [],
   "source": [
    "silhouette(df_pca_cluster)"
   ]
  },
  {
   "cell_type": "code",
   "execution_count": null,
   "id": "4d74fda2",
   "metadata": {},
   "outputs": [],
   "source": [
    "def elbowmethod(df):\n",
    "    Sum_of_squared_distances = []\n",
    "    K = range(1,10)\n",
    "    for num_clusters in K :\n",
    "        kmeans = KMeans(n_clusters=num_clusters)\n",
    "        kmeans.fit(df)\n",
    "        Sum_of_squared_distances.append(kmeans.inertia_)\n",
    "    plt.plot(K,Sum_of_squared_distances,'-bx')\n",
    "    plt.xlabel('Values of K') \n",
    "    plt.ylabel('Sum of squared distances/') \n",
    "    plt.title('Elbow Method For Optimal k')\n",
    "    plt.show()\n",
    "    \n"
   ]
  },
  {
   "cell_type": "code",
   "execution_count": null,
   "id": "2e10d859",
   "metadata": {},
   "outputs": [],
   "source": [
    "elbowmethod(df_cluster)"
   ]
  },
  {
   "cell_type": "code",
   "execution_count": null,
   "id": "e4c7a118",
   "metadata": {},
   "outputs": [],
   "source": [
    "elbowmethod(df_pca_cluster)"
   ]
  },
  {
   "cell_type": "code",
   "execution_count": null,
   "id": "809df3aa",
   "metadata": {},
   "outputs": [],
   "source": [
    "U = np.array(v[:, i[0]]).reshape(-1, 1)\n",
    "km = KMeans(init='k-means++',n_clusters= 8)\n",
    "df['clusters'] = km.fit_predict(U)\n",
    "df"
   ]
  },
  {
   "cell_type": "code",
   "execution_count": null,
   "id": "627ddf8d",
   "metadata": {},
   "outputs": [],
>>>>>>> Stashed changes
   "source": []
  }
 ],
 "metadata": {
  "kernelspec": {
   "display_name": "Python 3",
   "language": "python",
   "name": "python3"
  },
  "language_info": {
   "codemirror_mode": {
    "name": "ipython",
    "version": 3
   },
   "file_extension": ".py",
   "mimetype": "text/x-python",
   "name": "python",
   "nbconvert_exporter": "python",
   "pygments_lexer": "ipython3",
   "version": "3.9.12"
  }
 },
 "nbformat": 4,
 "nbformat_minor": 5
}
