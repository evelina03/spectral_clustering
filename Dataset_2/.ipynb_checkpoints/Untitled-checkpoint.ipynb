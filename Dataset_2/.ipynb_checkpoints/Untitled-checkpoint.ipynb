{
 "cells": [
  {
   "cell_type": "code",
   "execution_count": 2,
   "id": "620282f4",
   "metadata": {},
   "outputs": [],
   "source": [
    "import numpy as np\n",
    "import pandas as pd\n",
    "import math\n",
    "import itertools\n",
    "from sklearn.metrics import DistanceMetric\n",
    "from sklearn.metrics import pairwise_distances\n",
    "from scipy.spatial.distance import pdist\n",
    "import networkx as nx\n",
    "from numpy import inf\n",
    "import random\n",
    "from scipy import linalg\n",
    "from matplotlib import pyplot as plt\n",
    "from sklearn.cluster import KMeans\n",
    "from sklearn.metrics import silhouette_score\n",
    "from scipy.spatial.distance import pdist #Calculates pairwise distance"
   ]
  },
  {
   "cell_type": "code",
   "execution_count": 3,
   "id": "a9496281",
   "metadata": {},
   "outputs": [],
   "source": [
    "'equation for adjacency'\n",
    "\n",
    "def equation(df, sigma, distance):\n",
    "    dim = df.shape[0]\n",
    "    A = np.zeros([dim, dim])\n",
    "    dist = iter(pdist(df, metric=distance))\n",
    "#     matrix_dist = dist.pairwise(df.to_numpy())\n",
    "    for i in range(dim):\n",
    "        for j in range(i+1, dim):  \n",
    "            d = np.exp(-next(dist) ** 2) / (2. * sigma ** 2)\n",
    "            A[i,j] = d\n",
    "            A[j,i] = d\n",
    "    return A"
   ]
  },
  {
   "cell_type": "code",
   "execution_count": 4,
   "id": "fb0c68cf",
   "metadata": {},
   "outputs": [],
   "source": [
    "def CSVToGraphAndAdjecency(csv) :\n",
    "    \n",
    "    # Uploading the file\n",
    "    file=open(csv)\n",
    "    df = pd.read_csv(file)\n",
    "    df_cluster = df.iloc[:,0:13]\n",
    "    \n",
    "    # Original dataset\n",
    "    print('original dataset:')\n",
    "    print(df_cluster.head())\n",
    "    \n",
    " \n",
    "    \n",
    "    # Creating a distance matrix and Graph\n",
    "    dist = DistanceMetric.get_metric('euclidean')\n",
    "    matrix_dist = dist.pairwise(df_cluster.to_numpy())\n",
    "    Graph=nx.from_numpy_matrix(matrix_dist)\n",
    "    draw_graph(Graph)\n",
    "    \n",
    "    # Distance matrix\n",
    "    print('distance matrix:')\n",
    "    print(matrix_dist)\n",
    "    \n",
    "    # Creating an adjecency matrix\n",
    "    adjacency_matrix = equation(df_cluster, 0.3, 'euclidean')\n",
    "    \n",
    "    # Adjacency matrix\n",
    "    print('adjacency matrix:')\n",
    "    print(adjacency_matrix)\n",
    "    \n",
    "    return df, df_cluster, matrix_dist, adjacency_matrix, Graph"
   ]
  },
  {
   "cell_type": "code",
   "execution_count": 5,
   "id": "f502444f",
   "metadata": {},
   "outputs": [],
   "source": [
    "def draw_graph(G):\n",
    "    pos = nx.spring_layout(G)\n",
    "    nx.draw_networkx_nodes(G, pos)\n",
    "    nx.draw_networkx_labels(G, pos)\n",
    "    nx.draw_networkx_edges(G, pos, width=1.0, alpha=0.5)"
   ]
  },
  {
   "cell_type": "code",
   "execution_count": 6,
   "id": "73439a49",
   "metadata": {},
   "outputs": [
    {
     "ename": "FileNotFoundError",
     "evalue": "[Errno 2] No such file or directory: 'HeartFailure.csv'",
     "output_type": "error",
     "traceback": [
      "\u001b[1;31m---------------------------------------------------------------------------\u001b[0m",
      "\u001b[1;31mFileNotFoundError\u001b[0m                         Traceback (most recent call last)",
      "Input \u001b[1;32mIn [6]\u001b[0m, in \u001b[0;36m<cell line: 2>\u001b[1;34m()\u001b[0m\n\u001b[0;32m      1\u001b[0m csv\u001b[38;5;241m=\u001b[39m\u001b[38;5;124m\"\u001b[39m\u001b[38;5;124mHeartFailure.csv\u001b[39m\u001b[38;5;124m\"\u001b[39m\n\u001b[1;32m----> 2\u001b[0m df, df_cluster, matrix_dist, adjacency_matrix, Graph \u001b[38;5;241m=\u001b[39m \u001b[43mCSVToGraphAndAdjecency\u001b[49m\u001b[43m(\u001b[49m\u001b[43mcsv\u001b[49m\u001b[43m)\u001b[49m\n",
      "Input \u001b[1;32mIn [4]\u001b[0m, in \u001b[0;36mCSVToGraphAndAdjecency\u001b[1;34m(csv)\u001b[0m\n\u001b[0;32m      1\u001b[0m \u001b[38;5;28;01mdef\u001b[39;00m \u001b[38;5;21mCSVToGraphAndAdjecency\u001b[39m(csv) :\n\u001b[0;32m      2\u001b[0m     \n\u001b[0;32m      3\u001b[0m     \u001b[38;5;66;03m# Uploading the file\u001b[39;00m\n\u001b[1;32m----> 4\u001b[0m     file\u001b[38;5;241m=\u001b[39m\u001b[38;5;28;43mopen\u001b[39;49m\u001b[43m(\u001b[49m\u001b[43mcsv\u001b[49m\u001b[43m)\u001b[49m\n\u001b[0;32m      5\u001b[0m     df \u001b[38;5;241m=\u001b[39m pd\u001b[38;5;241m.\u001b[39mread_csv(file)\n\u001b[0;32m      6\u001b[0m     df_cluster \u001b[38;5;241m=\u001b[39m df\u001b[38;5;241m.\u001b[39miloc[:,\u001b[38;5;241m0\u001b[39m:\u001b[38;5;241m13\u001b[39m]\n",
      "\u001b[1;31mFileNotFoundError\u001b[0m: [Errno 2] No such file or directory: 'HeartFailure.csv'"
     ]
    }
   ],
   "source": [
    "csv=\"HeartFailure.csv\"\n",
    "df, df_cluster, matrix_dist, adjacency_matrix, Graph = CSVToGraphAndAdjecency(csv)"
   ]
  },
  {
   "cell_type": "code",
   "execution_count": null,
   "id": "bd90d438",
   "metadata": {},
   "outputs": [],
   "source": []
  }
 ],
 "metadata": {
  "kernelspec": {
   "display_name": "Python 3 (ipykernel)",
   "language": "python",
   "name": "python3"
  },
  "language_info": {
   "codemirror_mode": {
    "name": "ipython",
    "version": 3
   },
   "file_extension": ".py",
   "mimetype": "text/x-python",
   "name": "python",
   "nbconvert_exporter": "python",
   "pygments_lexer": "ipython3",
   "version": "3.10.6"
  }
 },
 "nbformat": 4,
 "nbformat_minor": 5
}
