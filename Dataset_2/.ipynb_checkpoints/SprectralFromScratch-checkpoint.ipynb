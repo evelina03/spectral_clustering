{
 "cells": [
  {
   "cell_type": "code",
   "execution_count": 2,
   "id": "55d8f913",
   "metadata": {},
   "outputs": [],
   "source": [
    "import numpy as np\n",
    "import pandas as pd\n",
    "float_formatter = lambda x: \"%.3f\" % x\n",
    "np.set_printoptions(formatter={'float_kind':float_formatter})\n",
    "from sklearn.datasets import make_circles\n",
    "from sklearn.cluster import SpectralClustering, KMeans\n",
    "from sklearn.metrics import pairwise_distances\n",
    "from matplotlib import pyplot as plt\n",
    "from sklearn.preprocessing import StandardScaler, normalize\n",
    "from sklearn.decomposition import PCA\n",
    "import networkx as nx\n",
    "import seaborn as sns\n",
    "sns.set()"
   ]
  },
  {
   "cell_type": "code",
   "execution_count": 3,
   "id": "387b6ae8",
   "metadata": {},
   "outputs": [
    {
     "data": {
      "text/html": [
       "<div>\n",
       "<style scoped>\n",
       "    .dataframe tbody tr th:only-of-type {\n",
       "        vertical-align: middle;\n",
       "    }\n",
       "\n",
       "    .dataframe tbody tr th {\n",
       "        vertical-align: top;\n",
       "    }\n",
       "\n",
       "    .dataframe thead th {\n",
       "        text-align: right;\n",
       "    }\n",
       "</style>\n",
       "<table border=\"1\" class=\"dataframe\">\n",
       "  <thead>\n",
       "    <tr style=\"text-align: right;\">\n",
       "      <th></th>\n",
       "      <th>Age</th>\n",
       "      <th>Temperature</th>\n",
       "      <th>Sex</th>\n",
       "      <th>Diarrhea</th>\n",
       "      <th>Fever</th>\n",
       "      <th>Coughing</th>\n",
       "      <th>ShortnessOfBreath</th>\n",
       "      <th>SoreThroat</th>\n",
       "      <th>NauseaVomitting</th>\n",
       "      <th>Fatigue</th>\n",
       "      <th>Cancer</th>\n",
       "      <th>Diagnosis</th>\n",
       "    </tr>\n",
       "  </thead>\n",
       "  <tbody>\n",
       "    <tr>\n",
       "      <th>0</th>\n",
       "      <td>67.0</td>\n",
       "      <td>38.11</td>\n",
       "      <td>F</td>\n",
       "      <td>unknown</td>\n",
       "      <td>Yes</td>\n",
       "      <td>Yes</td>\n",
       "      <td>unknown</td>\n",
       "      <td>No</td>\n",
       "      <td>unknown</td>\n",
       "      <td>No</td>\n",
       "      <td>unknown</td>\n",
       "      <td>H1N1</td>\n",
       "    </tr>\n",
       "    <tr>\n",
       "      <th>1</th>\n",
       "      <td>29.0</td>\n",
       "      <td>0.00</td>\n",
       "      <td>M</td>\n",
       "      <td>unknown</td>\n",
       "      <td>unknown</td>\n",
       "      <td>unknown</td>\n",
       "      <td>unknown</td>\n",
       "      <td>unknown</td>\n",
       "      <td>unknown</td>\n",
       "      <td>unknown</td>\n",
       "      <td>unknown</td>\n",
       "      <td>H1N1</td>\n",
       "    </tr>\n",
       "    <tr>\n",
       "      <th>2</th>\n",
       "      <td>22.0</td>\n",
       "      <td>0.00</td>\n",
       "      <td>F</td>\n",
       "      <td>unknown</td>\n",
       "      <td>unknown</td>\n",
       "      <td>unknown</td>\n",
       "      <td>unknown</td>\n",
       "      <td>unknown</td>\n",
       "      <td>unknown</td>\n",
       "      <td>unknown</td>\n",
       "      <td>unknown</td>\n",
       "      <td>H1N1</td>\n",
       "    </tr>\n",
       "    <tr>\n",
       "      <th>3</th>\n",
       "      <td>20.0</td>\n",
       "      <td>36.56</td>\n",
       "      <td>F</td>\n",
       "      <td>unknown</td>\n",
       "      <td>Yes</td>\n",
       "      <td>Yes</td>\n",
       "      <td>unknown</td>\n",
       "      <td>No</td>\n",
       "      <td>unknown</td>\n",
       "      <td>Yes</td>\n",
       "      <td>unknown</td>\n",
       "      <td>H1N1</td>\n",
       "    </tr>\n",
       "    <tr>\n",
       "      <th>4</th>\n",
       "      <td>21.0</td>\n",
       "      <td>0.00</td>\n",
       "      <td>M</td>\n",
       "      <td>unknown</td>\n",
       "      <td>unknown</td>\n",
       "      <td>unknown</td>\n",
       "      <td>unknown</td>\n",
       "      <td>unknown</td>\n",
       "      <td>unknown</td>\n",
       "      <td>unknown</td>\n",
       "      <td>unknown</td>\n",
       "      <td>H1N1</td>\n",
       "    </tr>\n",
       "  </tbody>\n",
       "</table>\n",
       "</div>"
      ],
      "text/plain": [
       "    Age  Temperature Sex Diarrhea    Fever Coughing ShortnessOfBreath  \\\n",
       "0  67.0        38.11   F  unknown      Yes      Yes           unknown   \n",
       "1  29.0         0.00   M  unknown  unknown  unknown           unknown   \n",
       "2  22.0         0.00   F  unknown  unknown  unknown           unknown   \n",
       "3  20.0        36.56   F  unknown      Yes      Yes           unknown   \n",
       "4  21.0         0.00   M  unknown  unknown  unknown           unknown   \n",
       "\n",
       "  SoreThroat NauseaVomitting  Fatigue   Cancer Diagnosis  \n",
       "0         No         unknown       No  unknown      H1N1  \n",
       "1    unknown         unknown  unknown  unknown      H1N1  \n",
       "2    unknown         unknown  unknown  unknown      H1N1  \n",
       "3         No         unknown      Yes  unknown      H1N1  \n",
       "4    unknown         unknown  unknown  unknown      H1N1  "
      ]
     },
     "execution_count": 3,
     "metadata": {},
     "output_type": "execute_result"
    }
   ],
   "source": [
    "df = pd.read_csv(\"Flu_Classification.csv\")\n",
    "df.head()"
   ]
  },
  {
   "cell_type": "code",
   "execution_count": 4,
   "id": "bd863b3e",
   "metadata": {},
   "outputs": [
    {
     "data": {
      "text/plain": [
       "(1485, 12)"
      ]
     },
     "execution_count": 4,
     "metadata": {},
     "output_type": "execute_result"
    }
   ],
   "source": [
    "df.shape"
   ]
  },
  {
   "cell_type": "code",
   "execution_count": 5,
   "id": "fc3ac33a",
   "metadata": {},
   "outputs": [],
   "source": [
    "# Converting string categorical variables into numeric categorical variables\n",
    "\n",
    "def convert(df, n, k) :\n",
    "    for col in df.iloc[:,n:k].columns:\n",
    "        df[col] = df[col].astype('category').cat.codes\n",
    "        \n",
    "    return df"
   ]
  },
  {
   "cell_type": "code",
   "execution_count": 6,
   "id": "4997f67a",
   "metadata": {},
   "outputs": [
    {
     "data": {
      "text/html": [
       "<div>\n",
       "<style scoped>\n",
       "    .dataframe tbody tr th:only-of-type {\n",
       "        vertical-align: middle;\n",
       "    }\n",
       "\n",
       "    .dataframe tbody tr th {\n",
       "        vertical-align: top;\n",
       "    }\n",
       "\n",
       "    .dataframe thead th {\n",
       "        text-align: right;\n",
       "    }\n",
       "</style>\n",
       "<table border=\"1\" class=\"dataframe\">\n",
       "  <thead>\n",
       "    <tr style=\"text-align: right;\">\n",
       "      <th></th>\n",
       "      <th>Age</th>\n",
       "      <th>Temperature</th>\n",
       "      <th>Sex</th>\n",
       "      <th>Diarrhea</th>\n",
       "      <th>Fever</th>\n",
       "      <th>Coughing</th>\n",
       "      <th>ShortnessOfBreath</th>\n",
       "      <th>SoreThroat</th>\n",
       "      <th>NauseaVomitting</th>\n",
       "      <th>Fatigue</th>\n",
       "      <th>Cancer</th>\n",
       "    </tr>\n",
       "  </thead>\n",
       "  <tbody>\n",
       "    <tr>\n",
       "      <th>0</th>\n",
       "      <td>67.0</td>\n",
       "      <td>38.11</td>\n",
       "      <td>0</td>\n",
       "      <td>2</td>\n",
       "      <td>1</td>\n",
       "      <td>1</td>\n",
       "      <td>2</td>\n",
       "      <td>0</td>\n",
       "      <td>2</td>\n",
       "      <td>0</td>\n",
       "      <td>1</td>\n",
       "    </tr>\n",
       "    <tr>\n",
       "      <th>1</th>\n",
       "      <td>29.0</td>\n",
       "      <td>0.00</td>\n",
       "      <td>1</td>\n",
       "      <td>2</td>\n",
       "      <td>2</td>\n",
       "      <td>2</td>\n",
       "      <td>2</td>\n",
       "      <td>2</td>\n",
       "      <td>2</td>\n",
       "      <td>2</td>\n",
       "      <td>1</td>\n",
       "    </tr>\n",
       "    <tr>\n",
       "      <th>2</th>\n",
       "      <td>22.0</td>\n",
       "      <td>0.00</td>\n",
       "      <td>0</td>\n",
       "      <td>2</td>\n",
       "      <td>2</td>\n",
       "      <td>2</td>\n",
       "      <td>2</td>\n",
       "      <td>2</td>\n",
       "      <td>2</td>\n",
       "      <td>2</td>\n",
       "      <td>1</td>\n",
       "    </tr>\n",
       "    <tr>\n",
       "      <th>3</th>\n",
       "      <td>20.0</td>\n",
       "      <td>36.56</td>\n",
       "      <td>0</td>\n",
       "      <td>2</td>\n",
       "      <td>1</td>\n",
       "      <td>1</td>\n",
       "      <td>2</td>\n",
       "      <td>0</td>\n",
       "      <td>2</td>\n",
       "      <td>1</td>\n",
       "      <td>1</td>\n",
       "    </tr>\n",
       "    <tr>\n",
       "      <th>4</th>\n",
       "      <td>21.0</td>\n",
       "      <td>0.00</td>\n",
       "      <td>1</td>\n",
       "      <td>2</td>\n",
       "      <td>2</td>\n",
       "      <td>2</td>\n",
       "      <td>2</td>\n",
       "      <td>2</td>\n",
       "      <td>2</td>\n",
       "      <td>2</td>\n",
       "      <td>1</td>\n",
       "    </tr>\n",
       "  </tbody>\n",
       "</table>\n",
       "</div>"
      ],
      "text/plain": [
       "    Age  Temperature  Sex  Diarrhea  Fever  Coughing  ShortnessOfBreath  \\\n",
       "0  67.0        38.11    0         2      1         1                  2   \n",
       "1  29.0         0.00    1         2      2         2                  2   \n",
       "2  22.0         0.00    0         2      2         2                  2   \n",
       "3  20.0        36.56    0         2      1         1                  2   \n",
       "4  21.0         0.00    1         2      2         2                  2   \n",
       "\n",
       "   SoreThroat  NauseaVomitting  Fatigue  Cancer  \n",
       "0           0                2        0       1  \n",
       "1           2                2        2       1  \n",
       "2           2                2        2       1  \n",
       "3           0                2        1       1  \n",
       "4           2                2        2       1  "
      ]
     },
     "execution_count": 6,
     "metadata": {},
     "output_type": "execute_result"
    }
   ],
   "source": [
    "df = convert(df, 2,12)\n",
    "df_cluster = df.iloc[:,0:11]\n",
    "df_cluster.head()"
   ]
  },
  {
   "cell_type": "code",
   "execution_count": 7,
   "id": "f095939e",
   "metadata": {},
   "outputs": [
    {
     "data": {
      "text/plain": [
       "(1485, 11)"
      ]
     },
     "execution_count": 7,
     "metadata": {},
     "output_type": "execute_result"
    }
   ],
   "source": [
    "df_cluster.shape"
   ]
  },
  {
   "cell_type": "code",
   "execution_count": 8,
   "id": "0ca36b54",
   "metadata": {},
   "outputs": [],
   "source": [
    "# Scaling the Data\n",
    "def datapreprocessing(df):\n",
    "    scaler = StandardScaler()\n",
    "    df_scaled = scaler.fit_transform(df)\n",
    "    df_normalized = normalize(df_scaled)\n",
    "    df_normalized = pd.DataFrame(df_normalized)\n",
    "    pca = PCA(n_components = 2)\n",
    "    df_principal = pca.fit_transform(df_normalized)\n",
    "    df_principal = pd.DataFrame(df_principal)\n",
    "    df_principal.columns = ['P1', 'P2']\n",
    "    return df_principal"
   ]
  },
  {
   "cell_type": "code",
   "execution_count": 9,
   "id": "6967cf29",
   "metadata": {},
   "outputs": [
    {
     "data": {
      "text/html": [
       "<div>\n",
       "<style scoped>\n",
       "    .dataframe tbody tr th:only-of-type {\n",
       "        vertical-align: middle;\n",
       "    }\n",
       "\n",
       "    .dataframe tbody tr th {\n",
       "        vertical-align: top;\n",
       "    }\n",
       "\n",
       "    .dataframe thead th {\n",
       "        text-align: right;\n",
       "    }\n",
       "</style>\n",
       "<table border=\"1\" class=\"dataframe\">\n",
       "  <thead>\n",
       "    <tr style=\"text-align: right;\">\n",
       "      <th></th>\n",
       "      <th>P1</th>\n",
       "      <th>P2</th>\n",
       "    </tr>\n",
       "  </thead>\n",
       "  <tbody>\n",
       "    <tr>\n",
       "      <th>0</th>\n",
       "      <td>0.631943</td>\n",
       "      <td>0.522644</td>\n",
       "    </tr>\n",
       "    <tr>\n",
       "      <th>1</th>\n",
       "      <td>-0.851658</td>\n",
       "      <td>-0.113107</td>\n",
       "    </tr>\n",
       "    <tr>\n",
       "      <th>2</th>\n",
       "      <td>-0.785821</td>\n",
       "      <td>0.151758</td>\n",
       "    </tr>\n",
       "    <tr>\n",
       "      <th>3</th>\n",
       "      <td>0.563009</td>\n",
       "      <td>0.285067</td>\n",
       "    </tr>\n",
       "    <tr>\n",
       "      <th>4</th>\n",
       "      <td>-0.869091</td>\n",
       "      <td>-0.212135</td>\n",
       "    </tr>\n",
       "    <tr>\n",
       "      <th>...</th>\n",
       "      <td>...</td>\n",
       "      <td>...</td>\n",
       "    </tr>\n",
       "    <tr>\n",
       "      <th>1480</th>\n",
       "      <td>-0.625272</td>\n",
       "      <td>-0.556122</td>\n",
       "    </tr>\n",
       "    <tr>\n",
       "      <th>1481</th>\n",
       "      <td>-0.624492</td>\n",
       "      <td>-0.559549</td>\n",
       "    </tr>\n",
       "    <tr>\n",
       "      <th>1482</th>\n",
       "      <td>-0.627288</td>\n",
       "      <td>-0.546258</td>\n",
       "    </tr>\n",
       "    <tr>\n",
       "      <th>1483</th>\n",
       "      <td>-0.628412</td>\n",
       "      <td>-0.539910</td>\n",
       "    </tr>\n",
       "    <tr>\n",
       "      <th>1484</th>\n",
       "      <td>-0.630332</td>\n",
       "      <td>-0.526795</td>\n",
       "    </tr>\n",
       "  </tbody>\n",
       "</table>\n",
       "<p>1485 rows × 2 columns</p>\n",
       "</div>"
      ],
      "text/plain": [
       "            P1        P2\n",
       "0     0.631943  0.522644\n",
       "1    -0.851658 -0.113107\n",
       "2    -0.785821  0.151758\n",
       "3     0.563009  0.285067\n",
       "4    -0.869091 -0.212135\n",
       "...        ...       ...\n",
       "1480 -0.625272 -0.556122\n",
       "1481 -0.624492 -0.559549\n",
       "1482 -0.627288 -0.546258\n",
       "1483 -0.628412 -0.539910\n",
       "1484 -0.630332 -0.526795\n",
       "\n",
       "[1485 rows x 2 columns]"
      ]
     },
     "execution_count": 9,
     "metadata": {},
     "output_type": "execute_result"
    }
   ],
   "source": [
    "df_pca = datapreprocessing(df_cluster)\n",
    "df_pca"
   ]
  },
  {
   "cell_type": "code",
   "execution_count": null,
   "id": "8cf68f91",
   "metadata": {},
   "outputs": [],
   "source": [
    "# Working with PCA values only \n",
    "\n",
    "df_pca_processed1 = np.array(df_pca)\n",
    "plt.scatter(df_pca_processed1[:,0], df_pca_processed1[:,1], alpha=0.7, edgecolors='b')\n",
    "plt.xlabel('')\n",
    "plt.ylabel('')"
   ]
  },
  {
   "cell_type": "code",
   "execution_count": null,
   "id": "ba22d04f",
   "metadata": {},
   "outputs": [],
   "source": [
    "W = pairwise_distances(df_pca, metric=\"euclidean\")\n",
    "print(W)"
   ]
  },
  {
   "cell_type": "code",
   "execution_count": null,
   "id": "8a5fb7fa",
   "metadata": {},
   "outputs": [],
   "source": [
    "def draw_graph(G):\n",
    "    pos = nx.spring_layout(G)\n",
    "    nx.draw_networkx_nodes(G, pos)\n",
    "    nx.draw_networkx_labels(G, pos)\n",
    "    nx.draw_networkx_edges(G, pos, width=1.0, alpha=0.5)"
   ]
  },
  {
   "cell_type": "code",
   "execution_count": null,
   "id": "05167184",
   "metadata": {},
   "outputs": [],
   "source": [
    "G=nx.from_numpy_matrix(W)\n",
    "draw_graph(G)\n",
    "adj_matrix = nx.adjacency_matrix(G)\n",
    "print(adj_matrix.todense())"
   ]
  },
  {
   "cell_type": "code",
   "execution_count": null,
   "id": "1ee1ec50",
   "metadata": {},
   "outputs": [],
   "source": [
    "# degree matrix\n",
    "D = np.diag(np.sum(np.array(adj_matrix.todense()), axis=1))\n",
    "print('degree matrix:')\n",
    "print(D)\n",
    "# laplacian matrix\n",
    "L = D - adj_matrix\n",
    "print('laplacian matrix:')\n",
    "print(L)"
   ]
  },
  {
   "cell_type": "code",
   "execution_count": null,
   "id": "aa0b2ff8",
   "metadata": {},
   "outputs": [],
   "source": [
    "e, v = np.linalg.eig(L)\n",
    "# eigenvalues\n",
    "print('eigenvalues:')\n",
    "print(e)\n",
    "# eigenvectors\n",
    "print('eigenvectors:')\n",
    "print(v)"
   ]
  },
  {
   "cell_type": "code",
   "execution_count": null,
   "id": "fe4f3cc3",
   "metadata": {},
   "outputs": [],
   "source": [
    "fig = plt.figure()\n",
    "ax1 = plt.subplot(121)\n",
    "plt.plot(e)\n",
    "ax1.title.set_text('eigenvalues')\n",
    "i = np.where(e < 10e-6)[0]\n",
    "ax2 = plt.subplot(122)\n",
    "plt.plot(v[:, i[0]])\n",
    "fig.tight_layout()\n",
    "plt.show()"
   ]
  },
  {
   "cell_type": "code",
   "execution_count": 10,
   "id": "a6acb720",
   "metadata": {},
   "outputs": [
    {
     "data": {
      "text/plain": [
       "Text(0, 0.5, '')"
      ]
     },
     "execution_count": 10,
     "metadata": {},
     "output_type": "execute_result"
    },
    {
     "data": {
      "image/png": "[encoded data removed]",
      "text/plain": [
       "<Figure size 432x288 with 1 Axes>"
      ]
     },
     "metadata": {
      "needs_background": "light"
     },
     "output_type": "display_data"
    }
   ],
   "source": [
    "# Working with original converted dataframe\n",
    "\n",
    "df_pca_processed2 = np.array(df_cluster)\n",
    "plt.scatter(df_pca_processed2[:,0], df_pca_processed2[:,1], alpha=0.7, edgecolors='b')\n",
    "plt.xlabel('')\n",
    "plt.ylabel('')"
   ]
  },
  {
   "cell_type": "code",
   "execution_count": 11,
   "id": "4a46a81b",
   "metadata": {},
   "outputs": [
    {
     "name": "stdout",
     "output_type": "stream",
     "text": [
      "[[0.000 53.920 59.054 ... 74.581 73.725 72.023]\n",
      " [53.920 0.000 7.071 ... 26.019 25.020 23.022]\n",
      " [59.054 7.071 0.000 ... 19.105 18.111 16.125]\n",
      " ...\n",
      " [74.581 26.019 19.105 ... 0.000 1.000 3.000]\n",
      " [73.725 25.020 18.111 ... 1.000 0.000 2.000]\n",
      " [72.023 23.022 16.125 ... 3.000 2.000 0.000]]\n"
     ]
    }
   ],
   "source": [
    "W2 = pairwise_distances(df_cluster, metric=\"euclidean\")\n",
    "print(W2)"
   ]
  },
  {
   "cell_type": "code",
   "execution_count": 13,
   "id": "db19ba58",
   "metadata": {},
   "outputs": [],
   "source": [
    "def draw_graph(G):\n",
    "    pos = nx.spring_layout(G)\n",
    "    nx.draw_networkx_nodes(G, pos)\n",
    "    nx.draw_networkx_labels(G, pos)\n",
    "    nx.draw_networkx_edges(G, pos, width=1.0, alpha=0.5)"
   ]
  },
  {
   "cell_type": "code",
   "execution_count": 15,
   "id": "23998c62",
   "metadata": {},
   "outputs": [
    {
     "data": {
      "image/png": "[encoded data removed]",
      "text/plain": [
       "<Figure size 432x288 with 1 Axes>"
      ]
     },
     "metadata": {},
     "output_type": "display_data"
    }
   ],
   "source": [
    "G2=nx.from_numpy_matrix(W2)\n",
    "draw_graph(G2)"
   ]
  },
  {
   "cell_type": "code",
   "execution_count": 16,
   "id": "ff4404f9",
   "metadata": {},
   "outputs": [
    {
     "name": "stderr",
     "output_type": "stream",
     "text": [
      "C:\\Users\\eveli\\AppData\\Local\\Temp\\ipykernel_11380\\1361958008.py:1: FutureWarning: adjacency_matrix will return a scipy.sparse array instead of a matrix in Networkx 3.0.\n",
      "  adj_matrix2 = nx.adjacency_matrix(G2)\n"
     ]
    },
    {
     "name": "stdout",
     "output_type": "stream",
     "text": [
      "[[0.000 53.920 59.054 ... 74.581 73.725 72.023]\n",
      " [53.920 0.000 7.071 ... 26.019 25.020 23.022]\n",
      " [59.054 7.071 0.000 ... 19.105 18.111 16.125]\n",
      " ...\n",
      " [74.581 26.019 19.105 ... 0.000 1.000 3.000]\n",
      " [73.725 25.020 18.111 ... 1.000 0.000 2.000]\n",
      " [72.023 23.022 16.125 ... 3.000 2.000 0.000]]\n"
     ]
    }
   ],
   "source": [
    "adj_matrix2 = nx.adjacency_matrix(G2)\n",
    "print(adj_matrix2.todense())"
   ]
  },
  {
   "cell_type": "code",
   "execution_count": 17,
   "id": "a9b2a4b9",
   "metadata": {},
   "outputs": [
    {
     "name": "stdout",
     "output_type": "stream",
     "text": [
      "degree matrix:\n",
      "[[75973.516 0.000 0.000 ... 0.000 0.000 0.000]\n",
      " [0.000 44300.594 0.000 ... 0.000 0.000 0.000]\n",
      " [0.000 0.000 43498.068 ... 0.000 0.000 0.000]\n",
      " ...\n",
      " [0.000 0.000 0.000 ... 49714.767 0.000 0.000]\n",
      " [0.000 0.000 0.000 ... 0.000 48873.362 0.000]\n",
      " [0.000 0.000 0.000 ... 0.000 0.000 47430.750]]\n",
      "laplacian matrix:\n",
      "[[75973.516 -53.920 -59.054 ... -74.581 -73.725 -72.023]\n",
      " [-53.920 44300.594 -7.071 ... -26.019 -25.020 -23.022]\n",
      " [-59.054 -7.071 43498.068 ... -19.105 -18.111 -16.125]\n",
      " ...\n",
      " [-74.581 -26.019 -19.105 ... 49714.767 -1.000 -3.000]\n",
      " [-73.725 -25.020 -18.111 ... -1.000 48873.362 -2.000]\n",
      " [-72.023 -23.022 -16.125 ... -3.000 -2.000 47430.750]]\n"
     ]
    }
   ],
   "source": [
    "# degree matrix\n",
    "D = np.diag(np.sum(np.array(adj_matrix2.todense()), axis=1))\n",
    "print('degree matrix:')\n",
    "print(D)\n",
    "# laplacian matrix\n",
    "L = D - adj_matrix2\n",
    "print('laplacian matrix:')\n",
    "print(L)"
   ]
  },
  {
   "cell_type": "code",
   "execution_count": 18,
   "id": "9b32afdb",
   "metadata": {},
   "outputs": [
    {
     "name": "stdout",
     "output_type": "stream",
     "text": [
      "eigenvalues:\n",
      "[ 1.02056542e+05+0.j  1.00005507e+05+0.j -4.36557457e-11+0.j ...\n",
      "  4.87114634e+04+0.j  4.95640955e+04+0.j  4.95640955e+04+0.j]\n",
      "eigenvectors:\n",
      "[[ 2.36297088e-03+0.j -1.33343869e-03+0.j -2.59499648e-02+0.j ...\n",
      "   3.15092280e-17+0.j -2.96455266e-18+0.j -1.24661346e-17+0.j]\n",
      " [-9.30348638e-04+0.j  6.20940980e-04+0.j -2.59499648e-02+0.j ...\n",
      "   2.59069077e-17+0.j -3.08918212e-16+0.j  2.40718654e-16+0.j]\n",
      " [-1.15926703e-03+0.j  8.80965198e-04+0.j -2.59499648e-02+0.j ...\n",
      "  -3.48510834e-16+0.j -1.29568265e-16+0.j  3.26649012e-16+0.j]\n",
      " ...\n",
      " [-1.86363887e-03+0.j  1.62406994e-03+0.j -2.59499648e-02+0.j ...\n",
      "   2.80735447e-16+0.j -8.49791574e-16+0.j -1.23576737e-14+0.j]\n",
      " [-1.81907797e-03+0.j  1.57854078e-03+0.j -2.59499648e-02+0.j ...\n",
      "  -1.04520603e-14+0.j  2.43537821e-15+0.j  1.05802723e-15+0.j]\n",
      " [-1.73438888e-03+0.j  1.49168687e-03+0.j -2.59499648e-02+0.j ...\n",
      "   3.63287935e-16+0.j -2.42020204e-16+0.j -1.80940496e-17+0.j]]\n"
     ]
    }
   ],
   "source": [
    "e, v = np.linalg.eig(L)\n",
    "# eigenvalues\n",
    "print('eigenvalues:')\n",
    "print(e)\n",
    "# eigenvectors\n",
    "print('eigenvectors:')\n",
    "print(v)"
   ]
  },
  {
   "cell_type": "code",
   "execution_count": 19,
   "id": "a513f450",
   "metadata": {},
   "outputs": [
    {
     "name": "stderr",
     "output_type": "stream",
     "text": [
      "C:\\Users\\eveli\\AppData\\Local\\Programs\\Python\\Python310\\lib\\site-packages\\matplotlib\\cbook\\__init__.py:1298: ComplexWarning: Casting complex values to real discards the imaginary part\n",
      "  return np.asarray(x, float)\n"
     ]
    },
    {
     "data": {
      "image/png": "[encoded data removed]",
      "text/plain": [
       "<Figure size 432x288 with 2 Axes>"
      ]
     },
     "metadata": {
      "needs_background": "light"
     },
     "output_type": "display_data"
    }
   ],
   "source": [
    "fig = plt.figure()\n",
    "ax1 = plt.subplot(121)\n",
    "plt.plot(e)\n",
    "ax1.title.set_text('eigenvalues')\n",
    "i = np.where(e < 10e-6)[0]\n",
    "ax2 = plt.subplot(122)\n",
    "plt.plot(v[:, i[0]])\n",
    "fig.tight_layout()\n",
    "plt.show()"
   ]
  },
  {
   "cell_type": "code",
   "execution_count": null,
   "id": "961aed1b",
   "metadata": {},
   "outputs": [],
   "source": []
  }
 ],
 "metadata": {
  "kernelspec": {
   "display_name": "Python 3 (ipykernel)",
   "language": "python",
   "name": "python3"
  },
  "language_info": {
   "codemirror_mode": {
    "name": "ipython",
    "version": 3
   },
   "file_extension": ".py",
   "mimetype": "text/x-python",
   "name": "python",
   "nbconvert_exporter": "python",
   "pygments_lexer": "ipython3",
   "version": "3.10.6"
  }
 },
 "nbformat": 4,
 "nbformat_minor": 5
}
